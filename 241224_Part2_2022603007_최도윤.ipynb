{
  "nbformat": 4,
  "nbformat_minor": 0,
  "metadata": {
    "kernelspec": {
      "display_name": "Python 3",
      "language": "python",
      "name": "python3"
    },
    "language_info": {
      "codemirror_mode": {
        "name": "ipython",
        "version": 3
      },
      "file_extension": ".py",
      "mimetype": "text/x-python",
      "name": "python",
      "nbconvert_exporter": "python",
      "pygments_lexer": "ipython3",
      "version": "3.6.6"
    },
    "colab": {
      "provenance": []
    }
  },
  "cells": [
    {
      "cell_type": "markdown",
      "metadata": {
        "id": "AnmcPOWxbQgu"
      },
      "source": [
        "by uramoon@kw.ac.kr<br>\n",
        "원본 출처: https://github.com/rickiepark/deep-learning-with-python-notebooks <a href=\"https://github.com/rickiepark/deep-learning-with-python-notebooks/blob/master/LICENSE\">(MIT License)</a>"
      ]
    },
    {
      "cell_type": "code",
      "metadata": {
        "id": "hl8n95y_avHS",
        "colab": {
          "base_uri": "https://localhost:8080/",
          "height": 35
        },
        "outputId": "562464c4-80b9-4224-9040-9860f4afcdd5"
      },
      "source": [
        "import keras\n",
        "keras.__version__"
      ],
      "execution_count": 1,
      "outputs": [
        {
          "output_type": "execute_result",
          "data": {
            "text/plain": [
              "'3.5.0'"
            ],
            "application/vnd.google.colaboratory.intrinsic+json": {
              "type": "string"
            }
          },
          "metadata": {},
          "execution_count": 1
        }
      ]
    },
    {
      "cell_type": "markdown",
      "metadata": {
        "id": "cL0Fa8CzavHX"
      },
      "source": [
        "# 신경망과의 첫 만남\n",
        "\n",
        "이 노트북은 [케라스 창시자에게 배우는 딥러닝](https://tensorflow.blog/케라스-창시자에게-배우는-딥러닝/) 책의 2장 1절의 코드 예제입니다. 책에는 더 많은 내용과 그림이 있습니다. 이 노트북에는 소스 코드에 관련된 설명만 포함합니다. 이 노트북의 설명은 케라스 버전 2.2.2에 맞추어져 있습니다. 케라스 최신 버전이 릴리스되면 노트북을 다시 테스트하기 때문에 설명과 코드의 결과가 조금 다를 수 있습니다.\n",
        "\n",
        "----\n",
        "\n",
        "케라스 파이썬 라이브러리를 사용하여 손글씨 숫자 분류를 학습하는 구체적인 신경망 예제를 살펴보겠습니다. 케라스나 비슷한 라이브러리를 사용한 경험이 없다면 당장은 이 첫 번째 예제를 모두 이해하지 못할 것입니다. 아직 케라스를 설치하지 않았을지도 모릅니다. 괜찮습니다. 다음 장에서 이 예제를 하나하나 자세히 설명합니다. 코드가 좀 이상하거나 요술처럼 보이더라도 너무 걱정하지 마세요. 일단 시작해 보겠습니다.\n",
        "\n",
        "여기에서 풀려고 하는 문제는 흑백 손글씨 숫자 이미지(28x28 픽셀)를 10개의 범주(0에서 9까지)로 분류하는 것입니다. 머신 러닝 커뮤니티에서 고전으로 취급받는 데이터셋인 MNIST를 사용하겠습니다. 이 데이터셋은 머신 러닝의 역사만큼 오래되었고 많은 연구에 사용되었습니다. 이 데이터셋은 1980년대에 미국 국립표준기술연구소에서 수집한 6만 개의 훈련 이미지와 1만 개의 테스트 이미지로 구성되어 있습니다. MNIST 문제를 알고리즘이 제대로 작동하는지 확인하기 위한 딥러닝계의 ‘Hello World’라고 생각해도 됩니다. 머신 러닝 기술자가 되기까지 연구 논문이나 블로그 포스트 등에서 MNIST를 보고 또 보게 될 것입니다."
      ]
    },
    {
      "cell_type": "markdown",
      "metadata": {
        "id": "BPnVPmltavHY"
      },
      "source": [
        "MNIST 데이터셋은 넘파이 배열 형태로 케라스에 이미 포함되어 있습니다:"
      ]
    },
    {
      "cell_type": "code",
      "metadata": {
        "id": "CCBjPiT9avHY",
        "colab": {
          "base_uri": "https://localhost:8080/"
        },
        "outputId": "0d03c9d7-07f0-431e-ba64-3947e8970f44"
      },
      "source": [
        "# MNIST 데이터셋 불러오기\n",
        "from keras.datasets import mnist\n",
        "\n",
        "(train_images, train_labels), (test_images, test_labels) = mnist.load_data()"
      ],
      "execution_count": 2,
      "outputs": [
        {
          "output_type": "stream",
          "name": "stdout",
          "text": [
            "Downloading data from https://storage.googleapis.com/tensorflow/tf-keras-datasets/mnist.npz\n",
            "\u001b[1m11490434/11490434\u001b[0m \u001b[32m━━━━━━━━━━━━━━━━━━━━\u001b[0m\u001b[37m\u001b[0m \u001b[1m0s\u001b[0m 0us/step\n"
          ]
        }
      ]
    },
    {
      "cell_type": "markdown",
      "metadata": {
        "id": "kNoeRx8zavHY"
      },
      "source": [
        "`train_images`와 `train_labels`가 모델이 학습해야 할 훈련 세트를 구성합니다. 모델은 `test_images`와 `test_labels`로 구성된 테스트 세트에서 테스트될 것입니다. 이미지는 넘파이 배열로 인코딩되어 있고 레이블은 0에서부터 9까지의 숫자 배열입니다. 이미지와 레이블은 일대일 관계를 가집니다.\n",
        "\n",
        "훈련 데이터를 살펴보겠습니다:"
      ]
    },
    {
      "cell_type": "code",
      "metadata": {
        "id": "wvPOMe1RavHZ",
        "colab": {
          "base_uri": "https://localhost:8080/"
        },
        "outputId": "6c546780-d22b-4b5f-f0e2-5c15616c4e2b"
      },
      "source": [
        "# 훈련 이미지 모양 (묶음, 행, 열)\n",
        "train_images.shape"
      ],
      "execution_count": 42,
      "outputs": [
        {
          "output_type": "execute_result",
          "data": {
            "text/plain": [
              "(60000, 28, 28)"
            ]
          },
          "metadata": {},
          "execution_count": 42
        }
      ]
    },
    {
      "cell_type": "code",
      "metadata": {
        "id": "lSl2EYUEavHZ",
        "colab": {
          "base_uri": "https://localhost:8080/"
        },
        "outputId": "f7748462-8af8-45a4-9ab9-76fee3d5acfb"
      },
      "source": [
        "# 훈련 레이블 모양\n",
        "train_labels.shape"
      ],
      "execution_count": 43,
      "outputs": [
        {
          "output_type": "execute_result",
          "data": {
            "text/plain": [
              "(60000,)"
            ]
          },
          "metadata": {},
          "execution_count": 43
        }
      ]
    },
    {
      "cell_type": "code",
      "metadata": {
        "id": "S5dIlTMLavHZ",
        "colab": {
          "base_uri": "https://localhost:8080/"
        },
        "outputId": "f910cc19-b488-4a88-b950-37cabc181434"
      },
      "source": [
        "# 훈련 레이블 값\n",
        "train_labels"
      ],
      "execution_count": 44,
      "outputs": [
        {
          "output_type": "execute_result",
          "data": {
            "text/plain": [
              "array([5, 0, 4, ..., 5, 6, 8], dtype=uint8)"
            ]
          },
          "metadata": {},
          "execution_count": 44
        }
      ]
    },
    {
      "cell_type": "code",
      "source": [
        "train_images[2][3][4]"
      ],
      "metadata": {
        "colab": {
          "base_uri": "https://localhost:8080/"
        },
        "id": "RnKWaiAhESUg",
        "outputId": "2ae884e2-14a1-438b-f2b7-d35ab8c9bbcb"
      },
      "execution_count": 45,
      "outputs": [
        {
          "output_type": "execute_result",
          "data": {
            "text/plain": [
              "0"
            ]
          },
          "metadata": {},
          "execution_count": 45
        }
      ]
    },
    {
      "cell_type": "markdown",
      "source": [
        "##TODO 1: 훈련 데이터의 이해"
      ],
      "metadata": {
        "id": "15gCuP3Npp4F"
      }
    },
    {
      "cell_type": "code",
      "source": [
        "# Q: train_images[2][3][4]은 무엇을 뜻할까요?\n",
        "# A: 3번째 이미지의 4번째 행, 5번째 열의 픽셀 값 (0 ~ 255의 값을 지님)\n",
        "\n",
        "# Q: train_labels[2]의 내용은 무엇을 뜻할까요?\n",
        "# A: train_images[2]가 나타내는 정답 숫자(0 ~ 9 중 하나)를 뜻합니다."
      ],
      "metadata": {
        "id": "9TbiIMxSpw5u"
      },
      "execution_count": 46,
      "outputs": []
    },
    {
      "cell_type": "markdown",
      "metadata": {
        "id": "ww_88KQIavHZ"
      },
      "source": [
        "다음은 테스트 데이터입니다:"
      ]
    },
    {
      "cell_type": "code",
      "metadata": {
        "id": "aknHHB6JavHa",
        "colab": {
          "base_uri": "https://localhost:8080/"
        },
        "outputId": "6f9c620b-f420-4d61-a937-74dcc1887796"
      },
      "source": [
        "test_images.shape"
      ],
      "execution_count": 47,
      "outputs": [
        {
          "output_type": "execute_result",
          "data": {
            "text/plain": [
              "(10000, 28, 28)"
            ]
          },
          "metadata": {},
          "execution_count": 47
        }
      ]
    },
    {
      "cell_type": "code",
      "metadata": {
        "id": "X8nKzkVIavHa",
        "colab": {
          "base_uri": "https://localhost:8080/"
        },
        "outputId": "cc78dc3b-a9d7-400d-e3bd-080de446daf9"
      },
      "source": [
        "test_labels.shape"
      ],
      "execution_count": 48,
      "outputs": [
        {
          "output_type": "execute_result",
          "data": {
            "text/plain": [
              "(10000,)"
            ]
          },
          "metadata": {},
          "execution_count": 48
        }
      ]
    },
    {
      "cell_type": "code",
      "metadata": {
        "id": "pi9ow-6ravHa",
        "colab": {
          "base_uri": "https://localhost:8080/"
        },
        "outputId": "93d59c84-758b-44a8-964f-b35291d06f5b"
      },
      "source": [
        "test_labels"
      ],
      "execution_count": 49,
      "outputs": [
        {
          "output_type": "execute_result",
          "data": {
            "text/plain": [
              "array([7, 2, 1, ..., 4, 5, 6], dtype=uint8)"
            ]
          },
          "metadata": {},
          "execution_count": 49
        }
      ]
    },
    {
      "cell_type": "markdown",
      "metadata": {
        "id": "kIuZPyfNavHa"
      },
      "source": [
        "훈련 데이터의 다섯 번째 샘플을 맷플롯립 라이브러리를 사용해 확인해 보겠습니다."
      ]
    },
    {
      "cell_type": "code",
      "metadata": {
        "id": "wWEP4scAavHb",
        "colab": {
          "base_uri": "https://localhost:8080/",
          "height": 430
        },
        "outputId": "a56a7a6e-6ed9-46af-af68-d0518ce7677d"
      },
      "source": [
        "import matplotlib.pyplot as plt\n",
        "\n",
        "digit = train_images[4]\n",
        "\n",
        "plt.imshow(digit, cmap=plt.cm.binary)\n",
        "plt.show()"
      ],
      "execution_count": 50,
      "outputs": [
        {
          "output_type": "display_data",
          "data": {
            "text/plain": [
              "<Figure size 640x480 with 1 Axes>"
            ],
            "image/png": "[encoded data removed]"
          },
          "metadata": {}
        }
      ]
    },
    {
      "cell_type": "markdown",
      "metadata": {
        "id": "ERBla-vcpkZP"
      },
      "source": [
        "##TODO 2: 훈련 데이터 확인\n",
        "for 문으로 train_images의 처음 세 장을 출력하여 5, 0, 4인지 확인해보자.\n"
      ]
    },
    {
      "cell_type": "code",
      "metadata": {
        "id": "95BmGFDJpm2t",
        "colab": {
          "base_uri": "https://localhost:8080/",
          "height": 1000
        },
        "outputId": "1f1a25b5-48b3-4079-c221-d240c9d9b92e"
      },
      "source": [
        "# 코드 작성\n",
        "for i in range(3):\n",
        "  plt.imshow(train_images[i], cmap=plt.cm.binary)\n",
        "  plt.show()"
      ],
      "execution_count": 51,
      "outputs": [
        {
          "output_type": "display_data",
          "data": {
            "text/plain": [
              "<Figure size 640x480 with 1 Axes>"
            ],
            "image/png": "[encoded data removed]"
          },
          "metadata": {}
        },
        {
          "output_type": "display_data",
          "data": {
            "text/plain": [
              "<Figure size 640x480 with 1 Axes>"
            ],
            "image/png": "[encoded data removed]"
          },
          "metadata": {}
        },
        {
          "output_type": "display_data",
          "data": {
            "text/plain": [
              "<Figure size 640x480 with 1 Axes>"
            ],
            "image/png": "[encoded data removed]"
          },
          "metadata": {}
        }
      ]
    },
    {
      "cell_type": "markdown",
      "metadata": {
        "id": "-PTMCvukpmsk"
      },
      "source": [
        "## TODO 3: 테스트 데이터 확인\n",
        "for 문으로 test_images 마지막 세 장을 출력하여 4, 5, 6인지 확인해보자."
      ]
    },
    {
      "cell_type": "code",
      "metadata": {
        "id": "D6UmHrospmc0",
        "colab": {
          "base_uri": "https://localhost:8080/",
          "height": 1000
        },
        "outputId": "4883ee43-98fb-4f5c-c65c-fd0137559f9e"
      },
      "source": [
        "# 코드 작성\n",
        "for i in range(3):\n",
        "  plt.imshow(test_images[9999-i], cmap=plt.cm.binary)\n",
        "  plt.show()"
      ],
      "execution_count": 52,
      "outputs": [
        {
          "output_type": "display_data",
          "data": {
            "text/plain": [
              "<Figure size 640x480 with 1 Axes>"
            ],
            "image/png": "[encoded data removed]"
          },
          "metadata": {}
        },
        {
          "output_type": "display_data",
          "data": {
            "text/plain": [
              "<Figure size 640x480 with 1 Axes>"
            ],
            "image/png": "[encoded data removed]"
          },
          "metadata": {}
        },
        {
          "output_type": "display_data",
          "data": {
            "text/plain": [
              "<Figure size 640x480 with 1 Axes>"
            ],
            "image/png": "[encoded data removed]"
          },
          "metadata": {}
        }
      ]
    },
    {
      "cell_type": "markdown",
      "metadata": {
        "id": "PMCi7plIavHb"
      },
      "source": [
        "작업 순서는 다음과 같습니다. 먼저 훈련 데이터 `train_images`와 `train_labels`를 네트워크에 주입합니다. 그러면 네트워크는 이미지와 레이블을 연관시킬 수 있도록 학습됩니다. 마지막으로 `test_images`에 대한 예측을 네트워크에게 요청합니다. 그리고 이 예측이 `test_labels`와 맞는지 확인할 것입니다.\n",
        "\n",
        "신경망을 만들어 보겠습니다. 여기에서도 다음 코드를 완전히 이해하지 않아도 괜찮습니다."
      ]
    },
    {
      "cell_type": "code",
      "metadata": {
        "id": "YAuPjlTTavHb"
      },
      "source": [
        "from keras import models\n",
        "from keras import layers\n",
        "\n",
        "# 순차 모델 생성\n",
        "network = models.Sequential()\n",
        "\n",
        "# 네트워크에 입력층 추가\n",
        "# 입력에서 그림을 한 장씩 입력 받는데 한 장의 그림에는 픽셀이 28 * 28 개 있습니다.\n",
        "network.add(layers.Input(shape=(28 * 28,)))\n",
        "\n",
        "# 네트워크에 은닉층 (hidden layer) 추가 (입력도 아니고 출력도 아니면 은닉층입니다.)\n",
        "# 은닉층에는 512개의 유닛(퍼셉트론)이 존재하고, 각 유닛은 28 * 28 개의 입력을 받습니다. (Densely or Fully Connected)\n",
        "# 활성화 함수로는 ReLU를 사용합니다. 활성화 함수 종류: https://en.wikipedia.org/wiki/Activation_function\n",
        "network.add(layers.Dense(512, activation='relu'))\n",
        "\n",
        "# 네트워크에 출력층 추가\n",
        "# 출력 층에는 10개의 유닛이 존재하는 데 각 유닛은 주어진 그림이 0일 확률, 1일 확률, ..., 9일 확률을 출력합니다.\n",
        "# 활성화 함수로 Softmax를 사용하여 상기 10개 확률의 합이 1이 되도록 만듭니다. (나중에 다시 설명)\n",
        "# 각 유닛은 이 전 층의 512개의 유닛이 출력하는 모든 값을 입력으로 받습니다. (Densely or Fully Connected)\n",
        "network.add(layers.Dense(10, activation='softmax'))"
      ],
      "execution_count": 53,
      "outputs": []
    },
    {
      "cell_type": "code",
      "source": [
        "# 네트워크의 구조 보기\n",
        "# 첫 번째 층 (은닉) 가중치 수 419120 = 입력 개수 (785 = 28*28[픽셀 수] + 1[bias, 절편]) * 유닛 개수 (512)\n",
        "# 두 번째 층 (출력) 가중치 수   5130 = 입력 개수 (512 + 1) * 유닛 개수 (10)\n",
        "# 지난 시간의 단일 퍼셉트론은 5 개의 가중치 값을 찾으면 됐는데 이 번에는 (512 + 10) 개의 퍼셉트론에서 총 407,050 개의 가중치 값을 찾아야 합니다.\n",
        "\n",
        "network.summary()"
      ],
      "metadata": {
        "id": "40btkIIamu4Y",
        "colab": {
          "base_uri": "https://localhost:8080/",
          "height": 193
        },
        "outputId": "fe0d6e35-de1b-48f8-fc3a-325f538c7ae5"
      },
      "execution_count": 54,
      "outputs": [
        {
          "output_type": "display_data",
          "data": {
            "text/plain": [
              "\u001b[1mModel: \"sequential_1\"\u001b[0m\n"
            ],
            "text/html": [
              "<pre style=\"white-space:pre;overflow-x:auto;line-height:normal;font-family:Menlo,'DejaVu Sans Mono',consolas,'Courier New',monospace\"><span style=\"font-weight: bold\">Model: \"sequential_1\"</span>\n",
              "</pre>\n"
            ]
          },
          "metadata": {}
        },
        {
          "output_type": "display_data",
          "data": {
            "text/plain": [
              "┏━━━━━━━━━━━━━━━━━━━━━━━━━━━━━━━━━━━━━━┳━━━━━━━━━━━━━━━━━━━━━━━━━━━━━┳━━━━━━━━━━━━━━━━━┓\n",
              "┃\u001b[1m \u001b[0m\u001b[1mLayer (type)                        \u001b[0m\u001b[1m \u001b[0m┃\u001b[1m \u001b[0m\u001b[1mOutput Shape               \u001b[0m\u001b[1m \u001b[0m┃\u001b[1m \u001b[0m\u001b[1m        Param #\u001b[0m\u001b[1m \u001b[0m┃\n",
              "┡━━━━━━━━━━━━━━━━━━━━━━━━━━━━━━━━━━━━━━╇━━━━━━━━━━━━━━━━━━━━━━━━━━━━━╇━━━━━━━━━━━━━━━━━┩\n",
              "│ dense_2 (\u001b[38;5;33mDense\u001b[0m)                      │ (\u001b[38;5;45mNone\u001b[0m, \u001b[38;5;34m512\u001b[0m)                 │         \u001b[38;5;34m401,920\u001b[0m │\n",
              "├──────────────────────────────────────┼─────────────────────────────┼─────────────────┤\n",
              "│ dense_3 (\u001b[38;5;33mDense\u001b[0m)                      │ (\u001b[38;5;45mNone\u001b[0m, \u001b[38;5;34m10\u001b[0m)                  │           \u001b[38;5;34m5,130\u001b[0m │\n",
              "└──────────────────────────────────────┴─────────────────────────────┴─────────────────┘\n"
            ],
            "text/html": [
              "<pre style=\"white-space:pre;overflow-x:auto;line-height:normal;font-family:Menlo,'DejaVu Sans Mono',consolas,'Courier New',monospace\">┏━━━━━━━━━━━━━━━━━━━━━━━━━━━━━━━━━━━━━━┳━━━━━━━━━━━━━━━━━━━━━━━━━━━━━┳━━━━━━━━━━━━━━━━━┓\n",
              "┃<span style=\"font-weight: bold\"> Layer (type)                         </span>┃<span style=\"font-weight: bold\"> Output Shape                </span>┃<span style=\"font-weight: bold\">         Param # </span>┃\n",
              "┡━━━━━━━━━━━━━━━━━━━━━━━━━━━━━━━━━━━━━━╇━━━━━━━━━━━━━━━━━━━━━━━━━━━━━╇━━━━━━━━━━━━━━━━━┩\n",
              "│ dense_2 (<span style=\"color: #0087ff; text-decoration-color: #0087ff\">Dense</span>)                      │ (<span style=\"color: #00d7ff; text-decoration-color: #00d7ff\">None</span>, <span style=\"color: #00af00; text-decoration-color: #00af00\">512</span>)                 │         <span style=\"color: #00af00; text-decoration-color: #00af00\">401,920</span> │\n",
              "├──────────────────────────────────────┼─────────────────────────────┼─────────────────┤\n",
              "│ dense_3 (<span style=\"color: #0087ff; text-decoration-color: #0087ff\">Dense</span>)                      │ (<span style=\"color: #00d7ff; text-decoration-color: #00d7ff\">None</span>, <span style=\"color: #00af00; text-decoration-color: #00af00\">10</span>)                  │           <span style=\"color: #00af00; text-decoration-color: #00af00\">5,130</span> │\n",
              "└──────────────────────────────────────┴─────────────────────────────┴─────────────────┘\n",
              "</pre>\n"
            ]
          },
          "metadata": {}
        },
        {
          "output_type": "display_data",
          "data": {
            "text/plain": [
              "\u001b[1m Total params: \u001b[0m\u001b[38;5;34m407,050\u001b[0m (1.55 MB)\n"
            ],
            "text/html": [
              "<pre style=\"white-space:pre;overflow-x:auto;line-height:normal;font-family:Menlo,'DejaVu Sans Mono',consolas,'Courier New',monospace\"><span style=\"font-weight: bold\"> Total params: </span><span style=\"color: #00af00; text-decoration-color: #00af00\">407,050</span> (1.55 MB)\n",
              "</pre>\n"
            ]
          },
          "metadata": {}
        },
        {
          "output_type": "display_data",
          "data": {
            "text/plain": [
              "\u001b[1m Trainable params: \u001b[0m\u001b[38;5;34m407,050\u001b[0m (1.55 MB)\n"
            ],
            "text/html": [
              "<pre style=\"white-space:pre;overflow-x:auto;line-height:normal;font-family:Menlo,'DejaVu Sans Mono',consolas,'Courier New',monospace\"><span style=\"font-weight: bold\"> Trainable params: </span><span style=\"color: #00af00; text-decoration-color: #00af00\">407,050</span> (1.55 MB)\n",
              "</pre>\n"
            ]
          },
          "metadata": {}
        },
        {
          "output_type": "display_data",
          "data": {
            "text/plain": [
              "\u001b[1m Non-trainable params: \u001b[0m\u001b[38;5;34m0\u001b[0m (0.00 B)\n"
            ],
            "text/html": [
              "<pre style=\"white-space:pre;overflow-x:auto;line-height:normal;font-family:Menlo,'DejaVu Sans Mono',consolas,'Courier New',monospace\"><span style=\"font-weight: bold\"> Non-trainable params: </span><span style=\"color: #00af00; text-decoration-color: #00af00\">0</span> (0.00 B)\n",
              "</pre>\n"
            ]
          },
          "metadata": {}
        }
      ]
    },
    {
      "cell_type": "markdown",
      "metadata": {
        "id": "YseI23eKavHb"
      },
      "source": [
        "신경망의 핵심 구성 요소는 일종의 데이터 처리 필터라고 생각할 수 있는 층입니다. 어떤 데이터가 들어가면 더 유용한 형태로 출력됩니다. 조금 더 구체적으로 층은 주어진 문제에 더 의미 있는 표현을 입력된 데이터로부터 추출합니다. 대부분의 딥러닝은 간단한 층을 연결하여 구성되어 있고, 점진적으로 데이터를 정제하는 형태를 띠고 있습니다. 딥러닝 모델은 데이터 정제 필터(층)가 연속되어 있는 데이터 프로세싱을 위한 여과기와 같습니다.\n",
        "\n",
        "이 예에서는 조밀하게 연결된 (또는 완전 연결된) 신경망 층인 `Dense` 층 2개가 연속되어 있습니다. 두 번째 (즉, 마지막) 층은 10개의 확률 점수가 들어 있는 배열(모두 더하면 1입니다)을 반환하는 소프트맥스 층입니다. 각 점수는 현재 숫자 이미지가 10개의 숫자 클래스 중 하나에 속할 확률입니다.\n",
        "\n",
        "신경망이 훈련 준비를 마치기 위해서 컴파일 단계에 포함될 세 가지가 더 필요합니다:\n",
        "\n",
        "* 손실 함수 : 훈련 데이터에서 신경망의 성능을 측정하는 방법으로 네트워크가 옳은 방향으로 학습될 수 있도록 도와 줍니다. <br>(지난 시간에 사용한 틀린 답안에 대해 1씩 커지는 0-1 Loss처럼 손실은 클 수록 좋지 않습니다.)\n",
        "* 옵티마이저: 입력된 데이터와 손실 함수를 기반으로 네트워크를 업데이트하는 메커니즘입니다.<br>\n",
        "(현재 상태에서 각 가중치를 어떻게 수정하면 손실이 작아지는 지 보통 미분을 통해 결정합니다.)\n",
        "* 훈련과 테스트 과정을 모니터링할 지표 : 여기에서는 정확도(정확히 분류된 이미지의 비율)만 고려하겠습니다.\n",
        "\n",
        "손실 함수와 옵티마이저의 정확한 목적은 이어지는 두 개의 장에서 자세히 설명하겠습니다."
      ]
    },
    {
      "cell_type": "code",
      "metadata": {
        "id": "zvB6JTrxavHb"
      },
      "source": [
        "network.compile(optimizer='rmsprop',\n",
        "                loss='categorical_crossentropy',\n",
        "                metrics=['accuracy'])"
      ],
      "execution_count": 55,
      "outputs": []
    },
    {
      "cell_type": "markdown",
      "metadata": {
        "id": "ikDaEzT2avHc"
      },
      "source": [
        "훈련을 시작하기 전에 데이터를 네트워크에 맞는 크기로 바꾸고 모든 값을 0과 1 사이로 스케일을 조정합니다. 예를 들어, 앞서 우리의 훈련 이미지는 `[0, 255]` 사이의 값인 `uint8` 타입의 `(60000, 28, 28)` 크기를 가진 배열로 저장되어 있습니다. 이 데이터를 0과 1 사이의 값을 가지는 `float32` 타입의 `(60000, 28 * 28)` 크기의 배열로 바꿉니다."
      ]
    },
    {
      "cell_type": "code",
      "metadata": {
        "id": "ll4eb4WcavHc"
      },
      "source": [
        "# 인공 신경망에서는 모든 값을 보통 0부터 1사이의 실수로 변환합니다.\n",
        "# 또한 합성곱 (Convolution Neural Network, CNN) 신경망의 등장 이전에는\n",
        "# 이미지를 2차원으로 해석하는 능력이 부족했으므로 1차원 배열로 변환해야 합니다.\n",
        "# (2차원 배열이라 하더라도 컴퓨터 메모리 상에는 1차원 배열로 저장됩니다.)\n",
        "\n",
        "norm_train_images = train_images.reshape((60000, 28 * 28))      # 6만개의 일차원 배열로 재해석 (각 배열은 길이 784=28*28)\n",
        "norm_train_images = norm_train_images.astype('float32') / 255   # [0, 255]의 정수를 [0, 1]의 실수로 변환\n",
        "\n",
        "norm_test_images = test_images.reshape((10000, 28 * 28))\n",
        "norm_test_images = norm_test_images.astype('float32') / 255"
      ],
      "execution_count": 56,
      "outputs": []
    },
    {
      "cell_type": "code",
      "source": [
        "# 사람이 보는 다섯 번째 샘플 (숫자 9의 모습, 2차원 이미지, CNN은 이러한 이미지를 볼 수 있음)\n",
        "import seaborn\n",
        "fig, ax = plt.subplots(figsize=(6,5))\n",
        "seaborn.heatmap(train_images[4])"
      ],
      "metadata": {
        "id": "Myz6H6Ry4ARL",
        "colab": {
          "base_uri": "https://localhost:8080/",
          "height": 463
        },
        "outputId": "d3e578d0-93a3-473f-f45e-5a18979d33f2"
      },
      "execution_count": 57,
      "outputs": [
        {
          "output_type": "execute_result",
          "data": {
            "text/plain": [
              "<Axes: >"
            ]
          },
          "metadata": {},
          "execution_count": 57
        },
        {
          "output_type": "display_data",
          "data": {
            "text/plain": [
              "<Figure size 600x500 with 2 Axes>"
            ],
            "image/png": "[encoded data removed]"
          },
          "metadata": {}
        }
      ]
    },
    {
      "cell_type": "code",
      "source": [
        "# 인공신경망 입장에서 보는 다섯 번째 샘플 (숫자 9의 모습, 1차원 배열, 과거 인공신경망은 이러한 이미지로 학습)\n",
        "fig, ax = plt.subplots(figsize=(6,1))\n",
        "seaborn.heatmap([norm_train_images[4]])"
      ],
      "metadata": {
        "id": "CP_L9BiBn153",
        "colab": {
          "base_uri": "https://localhost:8080/",
          "height": 173
        },
        "outputId": "5ddf74b0-d7bd-416a-c860-66b84764b239"
      },
      "execution_count": 58,
      "outputs": [
        {
          "output_type": "execute_result",
          "data": {
            "text/plain": [
              "<Axes: >"
            ]
          },
          "metadata": {},
          "execution_count": 58
        },
        {
          "output_type": "display_data",
          "data": {
            "text/plain": [
              "<Figure size 600x100 with 2 Axes>"
            ],
            "image/png": "[encoded data removed]"
          },
          "metadata": {}
        }
      ]
    },
    {
      "cell_type": "markdown",
      "metadata": {
        "id": "6kMzm3rYavHc"
      },
      "source": [
        "또한, 레이블을 범주형으로 인코딩해야 합니다. 이 단계는 3장에서 자세히 설명하겠습니다:"
      ]
    },
    {
      "cell_type": "code",
      "metadata": {
        "id": "dpXEeZ-lavHc"
      },
      "source": [
        "from tensorflow.keras.utils import to_categorical\n",
        "\n",
        "cat_train_labels = to_categorical(train_labels)\n",
        "cat_test_labels = to_categorical(test_labels)"
      ],
      "execution_count": 59,
      "outputs": []
    },
    {
      "cell_type": "markdown",
      "source": [
        "## TODO 4: 범주형 인자"
      ],
      "metadata": {
        "id": "6YqfVCPOrz8T"
      }
    },
    {
      "cell_type": "code",
      "source": [
        "# [5, 0, 4, ...]가 다음과 같이 변환됐습니다.\n",
        "print(cat_train_labels[0])\n",
        "print(cat_train_labels[1])\n",
        "print(cat_train_labels[2])\n",
        "# Q: 9는 어떻게 표현될까요?\n",
        "# A: [0. 0. 0. 0. 0. 0. 0. 0. 0. 1.]"
      ],
      "metadata": {
        "id": "GFIaE71KyedV",
        "colab": {
          "base_uri": "https://localhost:8080/"
        },
        "outputId": "59319167-ba91-4bb3-c482-6deb4cf41aa5"
      },
      "execution_count": 62,
      "outputs": [
        {
          "output_type": "stream",
          "name": "stdout",
          "text": [
            "[0. 0. 0. 0. 0. 1. 0. 0. 0. 0.]\n",
            "[1. 0. 0. 0. 0. 0. 0. 0. 0. 0.]\n",
            "[0. 0. 0. 0. 1. 0. 0. 0. 0. 0.]\n"
          ]
        }
      ]
    },
    {
      "cell_type": "markdown",
      "metadata": {
        "id": "DMqek4L6avHc"
      },
      "source": [
        "이제 신경망을 훈련시킬 준비가 되었습니다. 케라스에서는 `fit` 메서드를 호출하여 훈련 데이터에 모델을 학습시킵니다:"
      ]
    },
    {
      "cell_type": "code",
      "metadata": {
        "id": "4RYOQNutavHc",
        "colab": {
          "base_uri": "https://localhost:8080/"
        },
        "outputId": "6385b139-88df-40de-fc4e-3feb692d27dd"
      },
      "source": [
        "# 입력 이미지, 답안, 전체 훈련 데이터를 몇 번 반복하여 볼 것인지, 한 번에 그림을 몇 장씩 넣을 것인지를 제공\n",
        "# batch_size만큼의 이미지를 받아들여 각 가중치를 어떻게 바꾸면 좋을지 결정합니다.\n",
        "network.fit(norm_train_images, cat_train_labels, epochs=5, batch_size=128)"
      ],
      "execution_count": 63,
      "outputs": [
        {
          "output_type": "stream",
          "name": "stdout",
          "text": [
            "Epoch 1/5\n",
            "\u001b[1m469/469\u001b[0m \u001b[32m━━━━━━━━━━━━━━━━━━━━\u001b[0m\u001b[37m\u001b[0m \u001b[1m6s\u001b[0m 12ms/step - accuracy: 0.8717 - loss: 0.4446\n",
            "Epoch 2/5\n",
            "\u001b[1m469/469\u001b[0m \u001b[32m━━━━━━━━━━━━━━━━━━━━\u001b[0m\u001b[37m\u001b[0m \u001b[1m9s\u001b[0m 10ms/step - accuracy: 0.9648 - loss: 0.1188\n",
            "Epoch 3/5\n",
            "\u001b[1m469/469\u001b[0m \u001b[32m━━━━━━━━━━━━━━━━━━━━\u001b[0m\u001b[37m\u001b[0m \u001b[1m6s\u001b[0m 13ms/step - accuracy: 0.9789 - loss: 0.0709\n",
            "Epoch 4/5\n",
            "\u001b[1m469/469\u001b[0m \u001b[32m━━━━━━━━━━━━━━━━━━━━\u001b[0m\u001b[37m\u001b[0m \u001b[1m5s\u001b[0m 10ms/step - accuracy: 0.9852 - loss: 0.0510\n",
            "Epoch 5/5\n",
            "\u001b[1m469/469\u001b[0m \u001b[32m━━━━━━━━━━━━━━━━━━━━\u001b[0m\u001b[37m\u001b[0m \u001b[1m5s\u001b[0m 10ms/step - accuracy: 0.9888 - loss: 0.0375\n"
          ]
        },
        {
          "output_type": "execute_result",
          "data": {
            "text/plain": [
              "<keras.src.callbacks.history.History at 0x7960ea19b670>"
            ]
          },
          "metadata": {},
          "execution_count": 63
        }
      ]
    },
    {
      "cell_type": "markdown",
      "metadata": {
        "id": "d2-JZZPLavHd"
      },
      "source": [
        "훈련하는 동안 두 개의 정보가 출력됩니다. 훈련 데이터에 대한 네트워크의 손실과 정확도입니다.\n",
        "\n",
        "훈련 데이터에 대해 0.989(98.9%)의 정확도를 금방 달성합니다. 이제 테스트 세트에서도 모델이 잘 작동하는지 확인해 보겠습니다:"
      ]
    },
    {
      "cell_type": "code",
      "metadata": {
        "id": "YFCyuCAvavHd",
        "colab": {
          "base_uri": "https://localhost:8080/"
        },
        "outputId": "8ffcfb18-7b67-4e09-c3ee-4c3c7fe9784b"
      },
      "source": [
        "test_loss, test_acc = network.evaluate(norm_test_images, cat_test_labels)"
      ],
      "execution_count": 64,
      "outputs": [
        {
          "output_type": "stream",
          "name": "stdout",
          "text": [
            "\u001b[1m313/313\u001b[0m \u001b[32m━━━━━━━━━━━━━━━━━━━━\u001b[0m\u001b[37m\u001b[0m \u001b[1m2s\u001b[0m 5ms/step - accuracy: 0.9792 - loss: 0.0734\n"
          ]
        }
      ]
    },
    {
      "cell_type": "code",
      "metadata": {
        "id": "a_wrMEkVavHd",
        "colab": {
          "base_uri": "https://localhost:8080/"
        },
        "outputId": "ae90d8c5-366e-4a6b-8d82-de60dacc9c32"
      },
      "source": [
        "print('test_acc:', test_acc)"
      ],
      "execution_count": 65,
      "outputs": [
        {
          "output_type": "stream",
          "name": "stdout",
          "text": [
            "test_acc: 0.9815999865531921\n"
          ]
        }
      ]
    },
    {
      "cell_type": "markdown",
      "metadata": {
        "id": "DEIgwx2savHd"
      },
      "source": [
        "테스트 세트의 정확도는 97.8%로 나왔습니다. 훈련 세트 정확도보다는 약간 낮습니다. 훈련 정확도와 테스트 정확도 사이의 차이는 과대적합 때문입니다. 이는 머신 러닝 모델이 훈련 데이터보다 새로운 데이터에서 성능이 낮아지는 경향을 말합니다. 과대적합은 3장에서 자세하게 논의하겠습니다.\n",
        "\n",
        "이것으로 첫 번째 예제가 마무리되었습니다. 20줄 미만의 파이썬 코드로 손글씨 숫자를 분류하는 신경망을 만들고 훈련시켰습니다. 다음 장에서 여기서 보았던 코드 하나하나를 상세하게 설명하고 이들이 의미하는 바를 명확하게 설명하겠습니다. 이제 텐서, 신경망에 주입하는 데이터의 저장 형태, 층을 만들어주는 텐서 연산, 신경망을 훈련 샘플로부터 학습시키는 경사 하강법에 대해 알아보겠습니다."
      ]
    },
    {
      "cell_type": "markdown",
      "source": [
        "##TODO 5: 152 번째 테스트 이미지 확인"
      ],
      "metadata": {
        "id": "Rnf2YB4ezpoR"
      }
    },
    {
      "cell_type": "code",
      "source": [
        "# 152번째 (인덱스는 151) 테스트 이미지의 레이블은? (print 함수 사용)\n",
        "# 코드 작성\n",
        "print(test_labels[151])\n",
        "\n",
        "# 152번째 테스트 이미지 그려보기\n",
        "# 코드 작성\n",
        "plt.imshow(test_images[151], cmap=plt.cm.binary)\n",
        "plt.show()\n",
        "\n",
        "# Q: 152번째 테스트 이미지를 우리 네트워크는 무엇이라 예측했을까요?\n",
        "# predict의 결괏값: [0일 확률, 1일 확률, ..., 9일 확률] (1.2e-01의 뜻은 1.2*10^(-1)=12(%)입니다.)\n",
        "# A:  [0.00332 0.00000012284 0.12263 0.31181 0.000001559 0.01778 0.00000001175 0.00002784 19.60932 79.93512]\n",
        "import numpy as np\n",
        "print(network.predict(np.array([norm_test_images[151],]))) # 코드를 변경할 필요는 없습니다."
      ],
      "metadata": {
        "id": "-c_P34LQzlyF",
        "colab": {
          "base_uri": "https://localhost:8080/",
          "height": 521
        },
        "outputId": "62bf32c2-c9dd-448a-b8b4-589ded7d2680"
      },
      "execution_count": 66,
      "outputs": [
        {
          "output_type": "stream",
          "name": "stdout",
          "text": [
            "9\n"
          ]
        },
        {
          "output_type": "display_data",
          "data": {
            "text/plain": [
              "<Figure size 640x480 with 1 Axes>"
            ],
            "image/png": "[encoded data removed]"
          },
          "metadata": {}
        },
        {
          "output_type": "stream",
          "name": "stdout",
          "text": [
            "\u001b[1m1/1\u001b[0m \u001b[32m━━━━━━━━━━━━━━━━━━━━\u001b[0m\u001b[37m\u001b[0m \u001b[1m0s\u001b[0m 48ms/step\n",
            "[[7.36530055e-05 5.60623284e-11 2.83684785e-05 5.60270622e-04\n",
            "  6.02369432e-10 2.93895155e-05 1.01574645e-10 1.16810304e-06\n",
            "  1.05614904e-02 9.88745630e-01]]\n"
          ]
        }
      ]
    }
  ]
}