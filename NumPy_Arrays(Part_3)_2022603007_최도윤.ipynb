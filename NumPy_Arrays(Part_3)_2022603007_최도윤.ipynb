{
  "nbformat": 4,
  "nbformat_minor": 0,
  "metadata": {
    "colab": {
      "provenance": []
    },
    "kernelspec": {
      "name": "python3",
      "display_name": "Python 3"
    },
    "language_info": {
      "name": "python"
    }
  },
  "cells": [
    {
      "cell_type": "markdown",
      "source": [
        "# NumPy Arrays - Part 3<br>\n",
        "NumPy - 대규모의 다차원 배열을 쉽게 처리할 때 사용하는 파이썬 라이브러리<br>\n",
        "\n",
        "원본 출처: Introduction to Deep Learning at Carnegie Mellon University (https://deeplearning.cs.cmu.edu/S22/index.html)"
      ],
      "metadata": {
        "id": "6lftPq60eQHf"
      }
    },
    {
      "cell_type": "code",
      "execution_count": 1,
      "metadata": {
        "id": "mYtDfXUjeNpz"
      },
      "outputs": [],
      "source": [
        "# Import the NumPy\n",
        "import numpy as np"
      ]
    },
    {
      "cell_type": "markdown",
      "source": [
        "## 1. 데이터 읽어오기"
      ],
      "metadata": {
        "id": "OZpy5ioQeTOo"
      }
    },
    {
      "cell_type": "markdown",
      "source": [
        "### a. 인덱싱: NumPy 배열에서 값 읽어오기"
      ],
      "metadata": {
        "id": "zpzke-V6eajK"
      }
    },
    {
      "cell_type": "code",
      "source": [
        "# TODO: 무작위 값으로 채워진 4 x 5 x 6 배열을 만들어보세요. (5 x 6 행렬이 4개 묶음 있는 것으로 해석할 수 있음)\n",
        "# numpy.random.rand (https://numpy.org/doc/stable/reference/random/generated/numpy.random.rand.html)\n",
        "n = np.random.rand(4,5,6)\n",
        "n.shape"
      ],
      "metadata": {
        "id": "r6zIS_dhelNd",
        "colab": {
          "base_uri": "https://localhost:8080/"
        },
        "outputId": "75ff5a39-3841-4042-fb8c-85596a332157"
      },
      "execution_count": 12,
      "outputs": [
        {
          "output_type": "execute_result",
          "data": {
            "text/plain": [
              "(4, 5, 6)"
            ]
          },
          "metadata": {},
          "execution_count": 12
        }
      ]
    },
    {
      "cell_type": "markdown",
      "source": [
        "나중에 다룰 MNIST (필기체 인식) 데이터셋의 모양은 (60000, 28, 28)인데\n",
        "28 (행의 수, 높이) x 28 (열의 수, 너비)의 그림 60000만장이 있는 것으로 해석됩니다."
      ],
      "metadata": {
        "id": "sHiTWnqJ9brp"
      }
    },
    {
      "cell_type": "code",
      "source": [
        "# TODO: n에서 두 번째 묶음의 세 번째 행, 네 번째 열의 값은? (인덱스는 0에서 시작함)\n",
        "\n",
        "n[1][2][3]"
      ],
      "metadata": {
        "id": "HN_8Ea0pexSd",
        "colab": {
          "base_uri": "https://localhost:8080/"
        },
        "outputId": "20df3f54-1388-49ee-cc62-5c81e7eb719a"
      },
      "execution_count": 11,
      "outputs": [
        {
          "output_type": "execute_result",
          "data": {
            "text/plain": [
              "0.31649953064130376"
            ]
          },
          "metadata": {},
          "execution_count": 11
        }
      ]
    },
    {
      "cell_type": "markdown",
      "source": [
        "### b. 슬라이싱: NumPy 배열의 일부를 가져오기\n",
        "\n",
        "시작(포함):끝(미포함)으로 연속된 항목을 슬라이싱 <br>\n",
        ":만 쓰면 전체"
      ],
      "metadata": {
        "id": "PAaBZXXXed7s"
      }
    },
    {
      "cell_type": "code",
      "source": [
        "# 첫 번째 묶음의 모든 행렬 가져오기\n",
        "print(n[0, :, :]) # same as: n[0], 정답이므로 수정할 필요 없음"
      ],
      "metadata": {
        "id": "L9Q2XHHJfksz",
        "colab": {
          "base_uri": "https://localhost:8080/"
        },
        "outputId": "1dbecd5f-b436-495b-e534-1ed184d1a7f9"
      },
      "execution_count": 13,
      "outputs": [
        {
          "output_type": "stream",
          "name": "stdout",
          "text": [
            "[[0.82375802 0.2623115  0.88351701 0.10185996 0.57922729 0.00802955]\n",
            " [0.80991113 0.137525   0.08837093 0.92709266 0.17931124 0.60959297]\n",
            " [0.728517   0.0374076  0.27492085 0.08552825 0.19859059 0.1851328 ]\n",
            " [0.11193909 0.41434304 0.77724838 0.56130489 0.91775593 0.73001685]\n",
            " [0.07814961 0.04663193 0.12691945 0.61367074 0.53482375 0.1852402 ]]\n"
          ]
        }
      ]
    },
    {
      "cell_type": "code",
      "source": [
        "# TODO: 첫 번째 묶음에서 [0, 3) 행, [0, 4) 열 가져오기, 즉 3 x 4 배열이 나와야 함\n",
        "print(n[0,0:3 ,0:4 ])"
      ],
      "metadata": {
        "id": "us7ZbaWNfoCM",
        "colab": {
          "base_uri": "https://localhost:8080/"
        },
        "outputId": "1f7fd62f-c559-413e-d814-fdb02e5fc112"
      },
      "execution_count": 14,
      "outputs": [
        {
          "output_type": "stream",
          "name": "stdout",
          "text": [
            "[[0.82375802 0.2623115  0.88351701 0.10185996]\n",
            " [0.80991113 0.137525   0.08837093 0.92709266]\n",
            " [0.728517   0.0374076  0.27492085 0.08552825]]\n"
          ]
        }
      ]
    },
    {
      "cell_type": "code",
      "source": [
        "# TODO: 전체 묶음에서 4번 째 행, 5번째 열 값들 가져오기\n",
        "print(n[:,3 ,4 ])"
      ],
      "metadata": {
        "id": "Vu1fbcCdfwTb",
        "colab": {
          "base_uri": "https://localhost:8080/"
        },
        "outputId": "b2928592-4bab-4210-d741-76b4ee1853a3"
      },
      "execution_count": 15,
      "outputs": [
        {
          "output_type": "stream",
          "name": "stdout",
          "text": [
            "[0.91775593 0.72187366 0.42902997 0.21493118]\n"
          ]
        }
      ]
    },
    {
      "cell_type": "markdown",
      "source": [
        "### c. Slicing at Interval\n",
        "시작::증가폭(스텝)으로 띄엄띄엄 슬라이싱<br>\n",
        "예) a[7::2]인 경우 a[7], a[9], a[11], ... 을 가져와서 배열로 만듦"
      ],
      "metadata": {
        "id": "x5XCMrnifzxx"
      }
    },
    {
      "cell_type": "code",
      "source": [
        "# TODO: 0번 묶음, 2번 묶음, 4번 묶음, ... 슬라이싱 (n은 3번 묶음까지만 있어서 두 개의 묶음만 출력됨)\n",
        "print(n[0::2])"
      ],
      "metadata": {
        "id": "1n6mZkqif9_T",
        "colab": {
          "base_uri": "https://localhost:8080/"
        },
        "outputId": "e1292daf-979d-4d51-fc9f-8667bb031eaa"
      },
      "execution_count": 16,
      "outputs": [
        {
          "output_type": "stream",
          "name": "stdout",
          "text": [
            "[[[0.82375802 0.2623115  0.88351701 0.10185996 0.57922729 0.00802955]\n",
            "  [0.80991113 0.137525   0.08837093 0.92709266 0.17931124 0.60959297]\n",
            "  [0.728517   0.0374076  0.27492085 0.08552825 0.19859059 0.1851328 ]\n",
            "  [0.11193909 0.41434304 0.77724838 0.56130489 0.91775593 0.73001685]\n",
            "  [0.07814961 0.04663193 0.12691945 0.61367074 0.53482375 0.1852402 ]]\n",
            "\n",
            " [[0.25637024 0.98357073 0.39477887 0.4690165  0.65033236 0.1795868 ]\n",
            "  [0.31126037 0.97715583 0.91160694 0.82821758 0.15963149 0.39576552]\n",
            "  [0.93883002 0.02939002 0.34815693 0.93188555 0.33381754 0.14194367]\n",
            "  [0.61161562 0.4634956  0.7211883  0.5938127  0.42902997 0.81575902]\n",
            "  [0.38493651 0.11038959 0.1805806  0.6164132  0.83279114 0.15963726]]]\n"
          ]
        }
      ]
    },
    {
      "cell_type": "markdown",
      "source": [
        "원래 n의 모습과 비교해가며 아래의 결과는 어떻게 만들어진 것인지 이해하고 넘어가세요."
      ],
      "metadata": {
        "id": "n6-gq4BR-3gz"
      }
    },
    {
      "cell_type": "code",
      "source": [
        "print(n[0::2, 1:4, 1::2])"
      ],
      "metadata": {
        "id": "SAx6WFBPgCbG",
        "colab": {
          "base_uri": "https://localhost:8080/"
        },
        "outputId": "28639ec0-254c-43c5-bd8c-1acfa339f838"
      },
      "execution_count": 17,
      "outputs": [
        {
          "output_type": "stream",
          "name": "stdout",
          "text": [
            "[[[0.137525   0.92709266 0.60959297]\n",
            "  [0.0374076  0.08552825 0.1851328 ]\n",
            "  [0.41434304 0.56130489 0.73001685]]\n",
            "\n",
            " [[0.97715583 0.82821758 0.39576552]\n",
            "  [0.02939002 0.93188555 0.14194367]\n",
            "  [0.4634956  0.5938127  0.81575902]]]\n"
          ]
        }
      ]
    },
    {
      "cell_type": "markdown",
      "source": [
        "## 2. 데이터 수정하기"
      ],
      "metadata": {
        "id": "0HXKLxUNgUu5"
      }
    },
    {
      "cell_type": "code",
      "source": [
        "# 배열 복사하기\n",
        "n_copy = np.copy(n)"
      ],
      "metadata": {
        "id": "pPKNAGrtgaP4"
      },
      "execution_count": 18,
      "outputs": []
    },
    {
      "cell_type": "markdown",
      "source": [
        "### a. 하나의 값 수정하기"
      ],
      "metadata": {
        "id": "urMfsMrCgIxu"
      }
    },
    {
      "cell_type": "code",
      "source": [
        "# 복사한 배열과 n이 같은지 하나의 항목 확인\n",
        "print(n_copy[2, 4, 1] == n[2, 4, 1])"
      ],
      "metadata": {
        "id": "B5LbQnWhgevJ",
        "colab": {
          "base_uri": "https://localhost:8080/"
        },
        "outputId": "bd4db7f2-bc66-44d2-85ae-86284eb95cab"
      },
      "execution_count": 19,
      "outputs": [
        {
          "output_type": "stream",
          "name": "stdout",
          "text": [
            "True\n"
          ]
        }
      ]
    },
    {
      "cell_type": "code",
      "source": [
        "# TODO: 복사한 배열 n_copy[2, 4, 1]의 값을 0.005로 변경\n",
        "n_copy[2,4,1]= 0.005\n",
        "\n",
        "# 여전히 내용이 같은지 확인\n",
        "print(n_copy[2, 4, 1] == n[2, 4, 1])"
      ],
      "metadata": {
        "id": "2kLxN9FC_CBq",
        "colab": {
          "base_uri": "https://localhost:8080/"
        },
        "outputId": "8746fe20-c58d-45c3-de53-fa904bbc3cfd"
      },
      "execution_count": 24,
      "outputs": [
        {
          "output_type": "stream",
          "name": "stdout",
          "text": [
            "False\n"
          ]
        }
      ]
    },
    {
      "cell_type": "markdown",
      "source": [
        "n_copy는 n을 복사한 것이지만 n과 다른 위치에 독립적으로 존재한다. 만약 copy 함수로 복사하지 않고 m = n으로 m을 만든다음 m[2, 4, 1] 값을 수정하면 어떻게 될까?"
      ],
      "metadata": {
        "id": "IFmfB2Sy_LBp"
      }
    },
    {
      "cell_type": "code",
      "source": [
        "print('Before: ', n[2, 4, 1])\n",
        "m = n\n",
        "m[2, 4, 1] = 0.5\n",
        "print('After: ', n[2, 4, 1])"
      ],
      "metadata": {
        "id": "UEdqzyNAg0wh",
        "colab": {
          "base_uri": "https://localhost:8080/"
        },
        "outputId": "ca48bffd-47f6-46ea-a22b-f817392ba01d"
      },
      "execution_count": 23,
      "outputs": [
        {
          "output_type": "stream",
          "name": "stdout",
          "text": [
            "Before:  0.11038959284460148\n",
            "After:  0.5\n"
          ]
        }
      ]
    },
    {
      "cell_type": "code",
      "source": [
        "# n, m, n_copy가 저장된 장소 출력\n",
        "print(id(n))\n",
        "print(id(m))\n",
        "print(id(n_copy))"
      ],
      "metadata": {
        "id": "Q-PQLVO0_xLt",
        "colab": {
          "base_uri": "https://localhost:8080/"
        },
        "outputId": "66d3bd32-b063-4137-ab72-7ea9dd517b2b"
      },
      "execution_count": 25,
      "outputs": [
        {
          "output_type": "stream",
          "name": "stdout",
          "text": [
            "139938706259184\n",
            "139938706259184\n",
            "139938706259472\n"
          ]
        }
      ]
    },
    {
      "cell_type": "markdown",
      "source": [
        "### b. 여러 항목의 값을 같은 값으로 수정하기"
      ],
      "metadata": {
        "id": "s3oD5YFChL6l"
      }
    },
    {
      "cell_type": "code",
      "source": [
        "n_copy = np.copy(n)\n",
        "\n",
        "# n_copy 3번째 묶음의 4번째 행의 값 확인\n",
        "print(n_copy[2, 3])"
      ],
      "metadata": {
        "id": "032j547jhO3Y",
        "colab": {
          "base_uri": "https://localhost:8080/"
        },
        "outputId": "fa64683e-14e4-4b44-b4df-7550685d88d3"
      },
      "execution_count": 26,
      "outputs": [
        {
          "output_type": "stream",
          "name": "stdout",
          "text": [
            "[0.61161562 0.4634956  0.7211883  0.5938127  0.42902997 0.81575902]\n"
          ]
        }
      ]
    },
    {
      "cell_type": "code",
      "source": [
        "# TODO: n_copy 3번째 묶음 4번째 행의 값을 모두 0.5로 바꾸기\n",
        "n_copy[2, 3] = 0.5\n",
        "\n",
        "# n_copy 3번째 묶음 4번째 행의 값 확인\n",
        "print(n_copy[2, 3])"
      ],
      "metadata": {
        "id": "XquPn1uhAYbA",
        "colab": {
          "base_uri": "https://localhost:8080/"
        },
        "outputId": "5b840c36-1d81-496e-e70e-c6ab871fda84"
      },
      "execution_count": 27,
      "outputs": [
        {
          "output_type": "stream",
          "name": "stdout",
          "text": [
            "[0.5 0.5 0.5 0.5 0.5 0.5]\n"
          ]
        }
      ]
    }
  ]
}