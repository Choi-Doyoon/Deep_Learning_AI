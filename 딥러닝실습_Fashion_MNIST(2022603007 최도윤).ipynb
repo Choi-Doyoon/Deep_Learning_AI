{
  "nbformat": 4,
  "nbformat_minor": 0,
  "metadata": {
    "colab": {
      "provenance": []
    },
    "kernelspec": {
      "name": "python3",
      "display_name": "Python 3"
    },
    "language_info": {
      "name": "python"
    }
  },
  "cells": [
    {
      "cell_type": "markdown",
      "source": [
        "# Fashion MNIST\n",
        "by uramoon@kw.ac.kr (<a href=\"https://raw.githubusercontent.com/ronreiter/interactive-tutorials/master/LICENSE\">Apache 2.0 License</a>)\n",
        "\n",
        "Fashion MNIST는 MNIST와 동일한 입출력 구조를 지니고 있으나 숫자 대신 의류의 종류를 예측합니다.\n",
        "\n",
        "This is a dataset of 60,000 28x28 grayscale images of 10 fashion categories, along with a test set of 10,000 images. This dataset can be used as a drop-in replacement for MNIST.\n",
        "\n",
        "The classes are:\n",
        "\n",
        "0:\tT-shirt/top\n",
        "1:\tTrouser\n",
        "2:\tPullover\n",
        "3:\tDress\n",
        "4:\tCoat\n",
        "5:\tSandal\n",
        "6:\tShirt\n",
        "7:\tSneaker\n",
        "8:\tBag\n",
        "9:\tAnkle boot"
      ],
      "metadata": {
        "id": "NwO-ecrU9AM9"
      }
    },
    {
      "cell_type": "code",
      "source": [
        "# 데이터셋 불러오기\n",
        "from keras.datasets import fashion_mnist\n",
        "(train_images, train_labels), (test_images, test_labels) = fashion_mnist.load_data()"
      ],
      "metadata": {
        "id": "B1OaRlMf9jRU",
        "colab": {
          "base_uri": "https://localhost:8080/"
        },
        "outputId": "4e5fcbaa-7eeb-4b7a-a583-0dc756c82646"
      },
      "execution_count": 1,
      "outputs": [
        {
          "output_type": "stream",
          "name": "stdout",
          "text": [
            "Downloading data from https://storage.googleapis.com/tensorflow/tf-keras-datasets/train-labels-idx1-ubyte.gz\n",
            "\u001b[1m29515/29515\u001b[0m \u001b[32m━━━━━━━━━━━━━━━━━━━━\u001b[0m\u001b[37m\u001b[0m \u001b[1m0s\u001b[0m 0us/step\n",
            "Downloading data from https://storage.googleapis.com/tensorflow/tf-keras-datasets/train-images-idx3-ubyte.gz\n",
            "\u001b[1m26421880/26421880\u001b[0m \u001b[32m━━━━━━━━━━━━━━━━━━━━\u001b[0m\u001b[37m\u001b[0m \u001b[1m0s\u001b[0m 0us/step\n",
            "Downloading data from https://storage.googleapis.com/tensorflow/tf-keras-datasets/t10k-labels-idx1-ubyte.gz\n",
            "\u001b[1m5148/5148\u001b[0m \u001b[32m━━━━━━━━━━━━━━━━━━━━\u001b[0m\u001b[37m\u001b[0m \u001b[1m0s\u001b[0m 1us/step\n",
            "Downloading data from https://storage.googleapis.com/tensorflow/tf-keras-datasets/t10k-images-idx3-ubyte.gz\n",
            "\u001b[1m4422102/4422102\u001b[0m \u001b[32m━━━━━━━━━━━━━━━━━━━━\u001b[0m\u001b[37m\u001b[0m \u001b[1m0s\u001b[0m 0us/step\n"
          ]
        }
      ]
    },
    {
      "cell_type": "markdown",
      "source": [
        "## TODO 1: 훈련 데이터 살펴보기\n",
        "\n",
        "1. 훈련 데이터의 처음 세 장을 그려보세요."
      ],
      "metadata": {
        "id": "EqBkp2ez9fQ8"
      }
    },
    {
      "cell_type": "code",
      "execution_count": 7,
      "metadata": {
        "id": "hEkGwLFZ87ld",
        "colab": {
          "base_uri": "https://localhost:8080/",
          "height": 221
        },
        "outputId": "f61564bd-b588-42a8-a8e7-74b4654f30a4"
      },
      "outputs": [
        {
          "output_type": "display_data",
          "data": {
            "text/plain": [
              "<Figure size 1500x1000 with 3 Axes>"
            ],
            "image/png": "[encoded data removed]"
          },
          "metadata": {}
        }
      ],
      "source": [
        "# TODO: 아래 빈 칸을 채우세요.\n",
        "import matplotlib.pyplot as plt\n",
        "class_names = ['T-shirt/top', 'Trouser', 'Pullover', 'Dress', 'Coat', 'Sandal', 'Shirt', 'Sneaker', 'Bag', 'Ankle boot']\n",
        "\n",
        "plt.figure(figsize=(15, 10))\n",
        "for idx in range(3):\n",
        "  plt.subplot(1, 3, idx+1)        # 행은 1개, 열은 3개, 몇 번째 그림을 그릴 것인지 기재 (1부터 시작하는 숫자)\n",
        "  plt.imshow(train_images[idx], cmap='gray')  # 이미지 흑백으로 그리기\n",
        "  plt.title(class_names[train_labels[idx]])                # 상기 class_names를 활용하여 그림 제목으로 정답(label)을 표시해보세요. 예: 숫자가 아닌 Shirt, Bag 등\n",
        "  plt.axis('off')\n",
        "plt.show()"
      ]
    },
    {
      "cell_type": "markdown",
      "source": [
        "## TODO 2: 데이터 전처리 (모양 바꾸기, 정규화, 레이블 변환[선택])\n",
        "레이블 변환을 수행하지 않을 경우 TODO3의 loss에 'categorical_crossentropy' 대신 'sparse_categorical_crossentropy'를 사용해야 합니다."
      ],
      "metadata": {
        "id": "B3TOlelE-xcp"
      }
    },
    {
      "cell_type": "code",
      "source": [
        "import numpy as np\n",
        "from tensorflow.keras.utils import to_categorical\n",
        "train_images = train_images.reshape((60000, 28, 28, 1)).astype('float32') / 255\n",
        "test_images = test_images.reshape((10000, 28, 28, 1)).astype('float32') / 255\n",
        "train_labels = to_categorical(train_labels, num_classes=10)\n",
        "test_labels = to_categorical(test_labels, num_classes=10)"
      ],
      "metadata": {
        "id": "iA2028gB_ADz"
      },
      "execution_count": 15,
      "outputs": []
    },
    {
      "cell_type": "markdown",
      "source": [
        "## TODO 3: 모델 훈련 (모델 생성, compile, fit, evaluate)\n",
        "테스트 데이터에 대해 88% 이상의 정확도를 보이는 모델을 만들어 보세요."
      ],
      "metadata": {
        "id": "LhIzvWKy_IdS"
      }
    },
    {
      "cell_type": "code",
      "source": [
        "import tensorflow as tf\n",
        "from tensorflow.keras import Sequential\n",
        "from tensorflow.keras.layers import Conv2D, MaxPooling2D, Flatten, Dense, Dropout\n",
        "model = Sequential([\n",
        "    Conv2D(32, (3, 3), activation='relu', input_shape=(28, 28, 1)),\n",
        "    MaxPooling2D((2, 2)),\n",
        "    Dropout(0.25),\n",
        "    Conv2D(64, (3, 3), activation='relu'),\n",
        "    MaxPooling2D((2, 2)),\n",
        "    Dropout(0.25),\n",
        "    Flatten(),\n",
        "    Dense(128, activation='relu'),\n",
        "    Dropout(0.5),\n",
        "    Dense(10, activation='softmax')\n",
        "])\n",
        "model.compile(optimizer='adam',\n",
        "              loss='categorical_crossentropy',\n",
        "              metrics=['accuracy'])\n",
        "history = model.fit(train_images,\n",
        "                    train_labels,\n",
        "                    epochs=10,\n",
        "                    batch_size=64,\n",
        "                    validation_split=0.2)\n",
        "test_loss, test_accuracy = model.evaluate(test_images, test_labels)\n",
        "print(f\"Test Accuracy: {test_accuracy * 100:.2f}%\")\n"
      ],
      "metadata": {
        "id": "6mik0RUu_jqx",
        "colab": {
          "base_uri": "https://localhost:8080/"
        },
        "outputId": "bcabdc43-6a35-4d8f-cc68-216f4e082817"
      },
      "execution_count": 16,
      "outputs": [
        {
          "output_type": "stream",
          "name": "stderr",
          "text": [
            "/usr/local/lib/python3.10/dist-packages/keras/src/layers/convolutional/base_conv.py:107: UserWarning: Do not pass an `input_shape`/`input_dim` argument to a layer. When using Sequential models, prefer using an `Input(shape)` object as the first layer in the model instead.\n",
            "  super().__init__(activity_regularizer=activity_regularizer, **kwargs)\n"
          ]
        },
        {
          "output_type": "stream",
          "name": "stdout",
          "text": [
            "Epoch 1/10\n",
            "\u001b[1m750/750\u001b[0m \u001b[32m━━━━━━━━━━━━━━━━━━━━\u001b[0m\u001b[37m\u001b[0m \u001b[1m55s\u001b[0m 71ms/step - accuracy: 0.6536 - loss: 0.9603 - val_accuracy: 0.8453 - val_loss: 0.4310\n",
            "Epoch 2/10\n",
            "\u001b[1m750/750\u001b[0m \u001b[32m━━━━━━━━━━━━━━━━━━━━\u001b[0m\u001b[37m\u001b[0m \u001b[1m81s\u001b[0m 70ms/step - accuracy: 0.8205 - loss: 0.4950 - val_accuracy: 0.8724 - val_loss: 0.3527\n",
            "Epoch 3/10\n",
            "\u001b[1m750/750\u001b[0m \u001b[32m━━━━━━━━━━━━━━━━━━━━\u001b[0m\u001b[37m\u001b[0m \u001b[1m81s\u001b[0m 70ms/step - accuracy: 0.8494 - loss: 0.4223 - val_accuracy: 0.8792 - val_loss: 0.3268\n",
            "Epoch 4/10\n",
            "\u001b[1m750/750\u001b[0m \u001b[32m━━━━━━━━━━━━━━━━━━━━\u001b[0m\u001b[37m\u001b[0m \u001b[1m81s\u001b[0m 69ms/step - accuracy: 0.8628 - loss: 0.3793 - val_accuracy: 0.8861 - val_loss: 0.3034\n",
            "Epoch 5/10\n",
            "\u001b[1m750/750\u001b[0m \u001b[32m━━━━━━━━━━━━━━━━━━━━\u001b[0m\u001b[37m\u001b[0m \u001b[1m81s\u001b[0m 68ms/step - accuracy: 0.8708 - loss: 0.3619 - val_accuracy: 0.8910 - val_loss: 0.2933\n",
            "Epoch 6/10\n",
            "\u001b[1m750/750\u001b[0m \u001b[32m━━━━━━━━━━━━━━━━━━━━\u001b[0m\u001b[37m\u001b[0m \u001b[1m81s\u001b[0m 67ms/step - accuracy: 0.8752 - loss: 0.3444 - val_accuracy: 0.8945 - val_loss: 0.2797\n",
            "Epoch 7/10\n",
            "\u001b[1m750/750\u001b[0m \u001b[32m━━━━━━━━━━━━━━━━━━━━\u001b[0m\u001b[37m\u001b[0m \u001b[1m83s\u001b[0m 69ms/step - accuracy: 0.8838 - loss: 0.3185 - val_accuracy: 0.8997 - val_loss: 0.2716\n",
            "Epoch 8/10\n",
            "\u001b[1m750/750\u001b[0m \u001b[32m━━━━━━━━━━━━━━━━━━━━\u001b[0m\u001b[37m\u001b[0m \u001b[1m82s\u001b[0m 69ms/step - accuracy: 0.8884 - loss: 0.3066 - val_accuracy: 0.9022 - val_loss: 0.2606\n",
            "Epoch 9/10\n",
            "\u001b[1m750/750\u001b[0m \u001b[32m━━━━━━━━━━━━━━━━━━━━\u001b[0m\u001b[37m\u001b[0m \u001b[1m50s\u001b[0m 67ms/step - accuracy: 0.8895 - loss: 0.3037 - val_accuracy: 0.8989 - val_loss: 0.2684\n",
            "Epoch 10/10\n",
            "\u001b[1m750/750\u001b[0m \u001b[32m━━━━━━━━━━━━━━━━━━━━\u001b[0m\u001b[37m\u001b[0m \u001b[1m83s\u001b[0m 69ms/step - accuracy: 0.8930 - loss: 0.2920 - val_accuracy: 0.9034 - val_loss: 0.2547\n",
            "\u001b[1m313/313\u001b[0m \u001b[32m━━━━━━━━━━━━━━━━━━━━\u001b[0m\u001b[37m\u001b[0m \u001b[1m4s\u001b[0m 14ms/step - accuracy: 0.9049 - loss: 0.2713\n",
            "Test Accuracy: 90.13%\n"
          ]
        }
      ]
    },
    {
      "cell_type": "markdown",
      "source": [
        "## TODO 4: 틀린 예제 확인하기\n",
        "TODO 3에서 만든 모델이 잘못 분류하는 그림을 테스트 데이터에서 하나 이상 찾아 그려보세요. <br>\n",
        "(원래 레이블과 모델이 예측한 레이블은 그림 제목에 표시)\n",
        "\n",
        "HInt: predict() 함수로 테스트 데이터에 대한 예측을 수행하고 예측값과 실제값을 비교하여 틀린 예제를 찾아내면 됩니다. predict() 함수는 test_images와 같이 여러 장의 그림이 저장된 배열 형태의 입력을 받습니다. [예: network.predict(test_images)]\n",
        "\n",
        "https://www.tensorflow.org/api_docs/python/tf/keras/Model#predict\n",
        "\n",
        "\n",
        "\n",
        "predict() 함수는 첫 번째 그림에 대한 예측, 두 번째 그림에 대한 예측, ..., 마지막 그림에 대한 예측을 배열로 반환합니다. 각 예측은 [0번 클래스인 T-shirt일 확률, 1번 클래스인 Trouser일 확률, ..., 9번 클래스인 Ankle boot일 확률]의 모양을 지니고 있습니다. 이중 가장 큰 확률을 지닌 인덱스를 꺼내고 싶으면 np.argmax()함수에 넣어주면 됩니다.\n",
        "\n",
        "https://numpy.org/doc/stable/reference/generated/numpy.argmax.html\n",
        "\n",
        "np.max() 함수는 배열에서 가장 큰 값을 반환하고 np.argmax() 함수는 배열에서 가장 큰 값을 지닌 인덱스를 반환하니 필요에 따라 잘 선택하여 사용합시다."
      ],
      "metadata": {
        "id": "Mmsyn3xHURoa"
      }
    },
    {
      "cell_type": "code",
      "source": [
        "predictions = model.predict(test_images)\n",
        "incorrect_indices = []\n",
        "for i in range(len(test_images)):\n",
        "    predicted_label = np.argmax(predictions[i])\n",
        "    true_label = np.argmax(test_labels[i])\n",
        "    if predicted_label != true_label:\n",
        "        incorrect_indices.append(i)\n",
        "if incorrect_indices:\n",
        "    idx = incorrect_indices[0]\n",
        "    plt.imshow(test_images[idx].reshape(28, 28), cmap='gray')\n",
        "    plt.title(f\"True: {np.argmax(test_labels[idx])}, Predicted: {np.argmax(predictions[idx])}\")\n",
        "    plt.axis('off')\n",
        "    plt.show()\n",
        "else:\n",
        "    print(\"모든 테스트 데이터가 올바르게 분류되었습니다.\")"
      ],
      "metadata": {
        "id": "SSJ93bbgUhpg",
        "colab": {
          "base_uri": "https://localhost:8080/",
          "height": 446
        },
        "outputId": "b43a4fa2-8987-4147-c97d-80bb7b6bfbd7"
      },
      "execution_count": 17,
      "outputs": [
        {
          "output_type": "stream",
          "name": "stdout",
          "text": [
            "\u001b[1m313/313\u001b[0m \u001b[32m━━━━━━━━━━━━━━━━━━━━\u001b[0m\u001b[37m\u001b[0m \u001b[1m4s\u001b[0m 12ms/step\n"
          ]
        },
        {
          "output_type": "display_data",
          "data": {
            "text/plain": [
              "<Figure size 640x480 with 1 Axes>"
            ],
            "image/png": "[encoded data removed]"
          },
          "metadata": {}
        }
      ]
    }
  ]
}