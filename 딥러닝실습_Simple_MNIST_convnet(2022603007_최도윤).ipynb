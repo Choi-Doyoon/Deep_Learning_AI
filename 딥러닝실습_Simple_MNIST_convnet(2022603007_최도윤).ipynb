{
  "cells": [
    {
      "cell_type": "markdown",
      "metadata": {
        "id": "ArOjRcYF1iJV"
      },
      "source": [
        "# Simple MNIST convnet\n",
        "by uramoon@kw.ac.kr\n",
        "\n",
        "원본 출처<br>\n",
        "**Author:** [fchollet](https://twitter.com/fchollet) (<a href=\"https://raw.githubusercontent.com/ronreiter/interactive-tutorials/master/LICENSE\">Apache 2.0 License</a>)<br>\n",
        "**Date created:** 2015/06/19<br>\n",
        "**Last modified:** 2020/04/21<br>\n",
        "**Description:** A simple convnet that achieves ~99% test accuracy on MNIST.\n",
        "\n",
        "단순한 CNN을 사용해도 99% 이상의 테스트 정확도를 달성할 수 있습니다. CNN이 우리가 직접 그린 그림도 잘 예측할까요?"
      ]
    },
    {
      "cell_type": "markdown",
      "source": [
        "상단 메뉴 런타임 - 런타임 유형 변경에서 **GPU**를 선택하고 진행하세요."
      ],
      "metadata": {
        "id": "vwLA7xE9Pq8N"
      }
    },
    {
      "cell_type": "markdown",
      "metadata": {
        "id": "45H8fP9Y1iJY"
      },
      "source": [
        "## Setup"
      ]
    },
    {
      "cell_type": "code",
      "execution_count": 1,
      "metadata": {
        "id": "jdgsqtqJ1iJY"
      },
      "outputs": [],
      "source": [
        "import numpy as np\n",
        "from tensorflow import keras\n",
        "from tensorflow.keras import layers"
      ]
    },
    {
      "cell_type": "markdown",
      "metadata": {
        "id": "Wa5mXEAT1iJZ"
      },
      "source": [
        "## TODO 1: Feature scaling"
      ]
    },
    {
      "cell_type": "code",
      "execution_count": 11,
      "metadata": {
        "id": "EukNZ4871iJZ"
      },
      "outputs": [],
      "source": [
        "# Model / data parameters\n",
        "num_classes = 10            # 레이블의 개수 (0, 1, 2, ..., 9, 10개)\n",
        "input_shape = (28, 28, 1)   # CNN은 2차원 정보를 활용합니다. (28 x 28 흑백 이미지 한 장, 기존 MLP는 784개 픽셀의 명암을 사용)\n",
        "\n",
        "# the data, split between train and test sets\n",
        "# X를 이미지, y를 이미지에 대한 레이블로 표현합니다.\n",
        "# X_train[0]은 첫 번째 훈련 그림, y_train[0]은 첫 번째 훈련 그림의 정답 ([0, 9]에 속한 숫자 하나)\n",
        "(X_train, y_train), (X_test, y_test) = keras.datasets.mnist.load_data()\n",
        "\n",
        "# 각 픽셀 값을 [0, 255] -> [0, 1]로 변환하세요.\n",
        "X_train = X_train.astype(\"float32\") / 255\n",
        "X_test = X_test.astype(\"float32\") / 255"
      ]
    },
    {
      "cell_type": "markdown",
      "source": [
        "## TODO 2: Input shape"
      ],
      "metadata": {
        "id": "YWnoMeIYTcnD"
      }
    },
    {
      "cell_type": "code",
      "source": [
        "# 훈련용 이미지의 shape을 출력하세요. (6만장의 28 x 28 이미지)\n",
        "trimage = X_train.shape\n",
        "print(trimage)"
      ],
      "metadata": {
        "id": "5RTLJgz5RBJ0",
        "colab": {
          "base_uri": "https://localhost:8080/"
        },
        "outputId": "911003d1-f366-4c49-90b0-dcca7dedde2f"
      },
      "execution_count": 13,
      "outputs": [
        {
          "output_type": "stream",
          "name": "stdout",
          "text": [
            "(60000, 28, 28)\n"
          ]
        }
      ]
    },
    {
      "cell_type": "markdown",
      "source": [
        "## TODO 3: Shape expanding"
      ],
      "metadata": {
        "id": "wJ3L-zu1TjFW"
      }
    },
    {
      "cell_type": "code",
      "source": [
        "# Make sure images have shape (28, 28, 1)\n",
        "# CNN은 한 장의 이미지 모양을 (가로, 세로, 채널 수)로 만들어야 합니다.\n",
        "# 컬러 이미지는 R, G, B 세 장의 채널이지만 MNIST는 흑백이라 한 장의 채널이 필요합니다.\n",
        "# 최종적으로 6만장의 28 x 28 이미지 흑백 채널 하나가 필요합니다.\n",
        "# 가장 마지막 자리에 차원 하나 늘리기: (60000, 28, 28) -> (60000, 28, 28, 1),\n",
        "# 차원 늘리기 대신 reshape 함수도 사용 가능\n",
        "\n",
        "# expand_dims는 NumPy 배열의 특정 위치에 차원을 늘려줍니다.\n",
        "# 파이썬에서 인덱싱할 때 가장 마지막 위치를 나타내는 (음의) 정수를 기입하세요.\n",
        "X_train = np.expand_dims(X_train, axis=-1 )\n",
        "X_test = np.expand_dims(X_test, axis=-1)\n",
        "print(\"X_train shape:\", X_train.shape)\n",
        "print(X_train.shape[0], \"train samples\")\n",
        "print(X_test.shape[0], \"test samples\")"
      ],
      "metadata": {
        "id": "QdQuL31jQuPG",
        "colab": {
          "base_uri": "https://localhost:8080/"
        },
        "outputId": "aacff318-a910-45b7-98af-f3de70d031f1"
      },
      "execution_count": 14,
      "outputs": [
        {
          "output_type": "stream",
          "name": "stdout",
          "text": [
            "X_train shape: (60000, 28, 28, 1)\n",
            "60000 train samples\n",
            "10000 test samples\n"
          ]
        }
      ]
    },
    {
      "cell_type": "markdown",
      "metadata": {
        "id": "5crne86l1iJa"
      },
      "source": [
        "## Build the model"
      ]
    },
    {
      "cell_type": "code",
      "source": [
        "model = keras.Sequential(\n",
        "    [\n",
        "        keras.Input(shape=input_shape),\n",
        "        layers.Conv2D(32, kernel_size=(3, 3), activation=\"relu\"),\n",
        "        layers.Conv2D(64, kernel_size=(3, 3), activation=\"relu\"),\n",
        "        layers.MaxPooling2D(pool_size=(2, 2)),\n",
        "        layers.Dropout(0.5),  # Dropout 추가\n",
        "\n",
        "        layers.Conv2D(128, kernel_size=(3, 3), activation=\"relu\"),\n",
        "        layers.Conv2D(256, kernel_size=(3, 3), activation=\"relu\"),\n",
        "        layers.MaxPooling2D(pool_size=(2, 2)),\n",
        "        layers.Dropout(0.5),\n",
        "\n",
        "        layers.Flatten(),\n",
        "        layers.Dense(512, activation=\"relu\"),\n",
        "        layers.Dropout(0.5),\n",
        "        layers.Dense(num_classes, activation=\"softmax\"),\n",
        "    ]\n",
        ")"
      ],
      "metadata": {
        "id": "cHowQ6H2KQ7T"
      },
      "execution_count": 36,
      "outputs": []
    },
    {
      "cell_type": "markdown",
      "source": [
        "##TODO 4: Model training"
      ],
      "metadata": {
        "id": "wVtff9FzUzLW"
      }
    },
    {
      "cell_type": "code",
      "execution_count": 37,
      "metadata": {
        "id": "U8l6slYJ1iJc",
        "colab": {
          "base_uri": "https://localhost:8080/"
        },
        "outputId": "e4c8b23d-ac9e-4acf-9e66-3c09164876fd"
      },
      "outputs": [
        {
          "output_type": "stream",
          "name": "stdout",
          "text": [
            "Epoch 1/10000\n",
            "\u001b[1m375/375\u001b[0m \u001b[32m━━━━━━━━━━━━━━━━━━━━\u001b[0m\u001b[37m\u001b[0m \u001b[1m11s\u001b[0m 17ms/step - accuracy: 0.7981 - loss: 0.6136 - val_accuracy: 0.9701 - val_loss: 0.1001\n",
            "Epoch 2/10000\n",
            "\u001b[1m375/375\u001b[0m \u001b[32m━━━━━━━━━━━━━━━━━━━━\u001b[0m\u001b[37m\u001b[0m \u001b[1m5s\u001b[0m 12ms/step - accuracy: 0.9770 - loss: 0.0731 - val_accuracy: 0.9889 - val_loss: 0.0376\n",
            "Epoch 3/10000\n",
            "\u001b[1m375/375\u001b[0m \u001b[32m━━━━━━━━━━━━━━━━━━━━\u001b[0m\u001b[37m\u001b[0m \u001b[1m5s\u001b[0m 12ms/step - accuracy: 0.9843 - loss: 0.0514 - val_accuracy: 0.9912 - val_loss: 0.0338\n",
            "Epoch 4/10000\n",
            "\u001b[1m375/375\u001b[0m \u001b[32m━━━━━━━━━━━━━━━━━━━━\u001b[0m\u001b[37m\u001b[0m \u001b[1m5s\u001b[0m 12ms/step - accuracy: 0.9876 - loss: 0.0422 - val_accuracy: 0.9933 - val_loss: 0.0274\n",
            "Epoch 5/10000\n",
            "\u001b[1m375/375\u001b[0m \u001b[32m━━━━━━━━━━━━━━━━━━━━\u001b[0m\u001b[37m\u001b[0m \u001b[1m5s\u001b[0m 12ms/step - accuracy: 0.9894 - loss: 0.0354 - val_accuracy: 0.9923 - val_loss: 0.0269\n",
            "Epoch 6/10000\n",
            "\u001b[1m375/375\u001b[0m \u001b[32m━━━━━━━━━━━━━━━━━━━━\u001b[0m\u001b[37m\u001b[0m \u001b[1m5s\u001b[0m 12ms/step - accuracy: 0.9903 - loss: 0.0305 - val_accuracy: 0.9927 - val_loss: 0.0256\n",
            "Epoch 7/10000\n",
            "\u001b[1m375/375\u001b[0m \u001b[32m━━━━━━━━━━━━━━━━━━━━\u001b[0m\u001b[37m\u001b[0m \u001b[1m4s\u001b[0m 12ms/step - accuracy: 0.9919 - loss: 0.0286 - val_accuracy: 0.9929 - val_loss: 0.0241\n",
            "Epoch 8/10000\n",
            "\u001b[1m375/375\u001b[0m \u001b[32m━━━━━━━━━━━━━━━━━━━━\u001b[0m\u001b[37m\u001b[0m \u001b[1m5s\u001b[0m 12ms/step - accuracy: 0.9920 - loss: 0.0262 - val_accuracy: 0.9940 - val_loss: 0.0240\n",
            "Epoch 9/10000\n",
            "\u001b[1m375/375\u001b[0m \u001b[32m━━━━━━━━━━━━━━━━━━━━\u001b[0m\u001b[37m\u001b[0m \u001b[1m5s\u001b[0m 12ms/step - accuracy: 0.9928 - loss: 0.0247 - val_accuracy: 0.9927 - val_loss: 0.0316\n",
            "Epoch 10/10000\n",
            "\u001b[1m375/375\u001b[0m \u001b[32m━━━━━━━━━━━━━━━━━━━━\u001b[0m\u001b[37m\u001b[0m \u001b[1m5s\u001b[0m 12ms/step - accuracy: 0.9938 - loss: 0.0218 - val_accuracy: 0.9940 - val_loss: 0.0227\n",
            "Epoch 11/10000\n",
            "\u001b[1m375/375\u001b[0m \u001b[32m━━━━━━━━━━━━━━━━━━━━\u001b[0m\u001b[37m\u001b[0m \u001b[1m5s\u001b[0m 12ms/step - accuracy: 0.9932 - loss: 0.0202 - val_accuracy: 0.9936 - val_loss: 0.0277\n",
            "Epoch 12/10000\n",
            "\u001b[1m375/375\u001b[0m \u001b[32m━━━━━━━━━━━━━━━━━━━━\u001b[0m\u001b[37m\u001b[0m \u001b[1m5s\u001b[0m 12ms/step - accuracy: 0.9946 - loss: 0.0189 - val_accuracy: 0.9939 - val_loss: 0.0277\n",
            "Epoch 13/10000\n",
            "\u001b[1m375/375\u001b[0m \u001b[32m━━━━━━━━━━━━━━━━━━━━\u001b[0m\u001b[37m\u001b[0m \u001b[1m5s\u001b[0m 12ms/step - accuracy: 0.9949 - loss: 0.0169 - val_accuracy: 0.9939 - val_loss: 0.0245\n",
            "Epoch 14/10000\n",
            "\u001b[1m375/375\u001b[0m \u001b[32m━━━━━━━━━━━━━━━━━━━━\u001b[0m\u001b[37m\u001b[0m \u001b[1m5s\u001b[0m 12ms/step - accuracy: 0.9943 - loss: 0.0171 - val_accuracy: 0.9944 - val_loss: 0.0261\n",
            "Epoch 15/10000\n",
            "\u001b[1m375/375\u001b[0m \u001b[32m━━━━━━━━━━━━━━━━━━━━\u001b[0m\u001b[37m\u001b[0m \u001b[1m5s\u001b[0m 11ms/step - accuracy: 0.9953 - loss: 0.0161 - val_accuracy: 0.9939 - val_loss: 0.0249\n",
            "Epoch 16/10000\n",
            "\u001b[1m375/375\u001b[0m \u001b[32m━━━━━━━━━━━━━━━━━━━━\u001b[0m\u001b[37m\u001b[0m \u001b[1m5s\u001b[0m 12ms/step - accuracy: 0.9947 - loss: 0.0161 - val_accuracy: 0.9943 - val_loss: 0.0272\n",
            "Epoch 17/10000\n",
            "\u001b[1m375/375\u001b[0m \u001b[32m━━━━━━━━━━━━━━━━━━━━\u001b[0m\u001b[37m\u001b[0m \u001b[1m5s\u001b[0m 12ms/step - accuracy: 0.9949 - loss: 0.0162 - val_accuracy: 0.9941 - val_loss: 0.0244\n",
            "Epoch 18/10000\n",
            "\u001b[1m375/375\u001b[0m \u001b[32m━━━━━━━━━━━━━━━━━━━━\u001b[0m\u001b[37m\u001b[0m \u001b[1m5s\u001b[0m 12ms/step - accuracy: 0.9959 - loss: 0.0135 - val_accuracy: 0.9943 - val_loss: 0.0281\n",
            "Epoch 19/10000\n",
            "\u001b[1m375/375\u001b[0m \u001b[32m━━━━━━━━━━━━━━━━━━━━\u001b[0m\u001b[37m\u001b[0m \u001b[1m5s\u001b[0m 12ms/step - accuracy: 0.9956 - loss: 0.0139 - val_accuracy: 0.9943 - val_loss: 0.0244\n",
            "Epoch 20/10000\n",
            "\u001b[1m375/375\u001b[0m \u001b[32m━━━━━━━━━━━━━━━━━━━━\u001b[0m\u001b[37m\u001b[0m \u001b[1m5s\u001b[0m 12ms/step - accuracy: 0.9966 - loss: 0.0109 - val_accuracy: 0.9943 - val_loss: 0.0272\n",
            "Epoch 21/10000\n",
            "\u001b[1m375/375\u001b[0m \u001b[32m━━━━━━━━━━━━━━━━━━━━\u001b[0m\u001b[37m\u001b[0m \u001b[1m5s\u001b[0m 12ms/step - accuracy: 0.9965 - loss: 0.0128 - val_accuracy: 0.9948 - val_loss: 0.0279\n",
            "Epoch 22/10000\n",
            "\u001b[1m375/375\u001b[0m \u001b[32m━━━━━━━━━━━━━━━━━━━━\u001b[0m\u001b[37m\u001b[0m \u001b[1m5s\u001b[0m 12ms/step - accuracy: 0.9960 - loss: 0.0110 - val_accuracy: 0.9946 - val_loss: 0.0262\n",
            "Epoch 23/10000\n",
            "\u001b[1m375/375\u001b[0m \u001b[32m━━━━━━━━━━━━━━━━━━━━\u001b[0m\u001b[37m\u001b[0m \u001b[1m4s\u001b[0m 12ms/step - accuracy: 0.9965 - loss: 0.0123 - val_accuracy: 0.9948 - val_loss: 0.0272\n",
            "Epoch 24/10000\n",
            "\u001b[1m375/375\u001b[0m \u001b[32m━━━━━━━━━━━━━━━━━━━━\u001b[0m\u001b[37m\u001b[0m \u001b[1m5s\u001b[0m 12ms/step - accuracy: 0.9965 - loss: 0.0113 - val_accuracy: 0.9949 - val_loss: 0.0258\n"
          ]
        },
        {
          "output_type": "execute_result",
          "data": {
            "text/plain": [
              "<keras.src.callbacks.history.History at 0x7a82cc2a4d90>"
            ]
          },
          "metadata": {},
          "execution_count": 37
        }
      ],
      "source": [
        "from tensorflow.keras.callbacks import EarlyStopping\n",
        "\n",
        "batch_size = 128\n",
        "epochs = 10000\n",
        "\n",
        "model.compile(loss=\"sparse_categorical_crossentropy\", optimizer=\"rmsprop\", metrics=[\"accuracy\"])\n",
        "\n",
        "# TODO: 자유롭게 설정하세요.\n",
        "# https://keras.io/api/callbacks/early_stopping/\n",
        "es = EarlyStopping(monitor=\"val_accuracy\", patience=10,min_delta=0.001, restore_best_weights=True)\n",
        "\n",
        "# 훈련 데이터의 20%는 사용하지 않고 남겨두었다가 Epoch이 끝날 때마다 남겨둔 데이터로 성능을 평가하여 출력해보세요.\n",
        "# 따로 테스트를 하지 않더라도 테스트 했을 때의 성능을 짐작할 수 있게 도와줍니다.\n",
        "# Hint: https://keras.io/api/models/model_training_apis/ 에서 fit method 참조\n",
        "model.fit(X_train, y_train, batch_size=batch_size, epochs=epochs, callbacks=es, validation_split=0.2)"
      ]
    },
    {
      "cell_type": "markdown",
      "metadata": {
        "id": "mBq6ZYNk1iJc"
      },
      "source": [
        "## Evaluate the trained model\n",
        "\n",
        "Test 정확도가 99% 미만이면 TODO4부터 다시 수행하세요."
      ]
    },
    {
      "cell_type": "code",
      "execution_count": 38,
      "metadata": {
        "id": "3MiZmVp71iJc",
        "colab": {
          "base_uri": "https://localhost:8080/"
        },
        "outputId": "02d33660-5f8d-46eb-d10d-ae7bc3d8d7e5"
      },
      "outputs": [
        {
          "output_type": "stream",
          "name": "stdout",
          "text": [
            "Test loss: 0.018205642700195312\n",
            "Test accuracy: 0.9950000047683716\n"
          ]
        }
      ],
      "source": [
        "score = model.evaluate(X_test, y_test, verbose=0)\n",
        "print(\"Test loss:\", score[0])\n",
        "print(\"Test accuracy:\", score[1])"
      ]
    },
    {
      "cell_type": "markdown",
      "source": [
        "## 우리가 만든 테스트 데이터 읽어오기\n",
        "좌측 파일 메뉴를 활용하여 our_test_images_2024.npy, our_test_labels_2024.npy 파일을 Colab에 업로드하세요. 과거 광운대학교와 42 Seoul 수강생들이 만든 자료입니다. 나중에 여러분들이 그린 그림도 추가됩니다.\n"
      ],
      "metadata": {
        "id": "AxovfB3oWDbc"
      }
    },
    {
      "cell_type": "code",
      "source": [
        "our_test_images = np.load('our_test_images_2024.npy')\n",
        "our_test_labels = np.load('our_test_labels_2024.npy')"
      ],
      "metadata": {
        "id": "3YK47PmO6wLr"
      },
      "execution_count": 42,
      "outputs": []
    },
    {
      "cell_type": "markdown",
      "source": [
        "잘 읽어왔는지 9장을 무작위로 그려봅니다."
      ],
      "metadata": {
        "id": "e7DlsOFXPOFF"
      }
    },
    {
      "cell_type": "code",
      "source": [
        "%matplotlib inline\n",
        "import matplotlib.pyplot as plt\n",
        "import random\n",
        "\n",
        "plt.figure(figsize=(10, 10))\n",
        "for i in range(9):\n",
        "  ax = plt.subplot(3, 3, i + 1)\n",
        "  rand = random.randint(0, len(our_test_images) - 1)\n",
        "  plt.imshow(our_test_images[rand].reshape(28, 28))\n",
        "  plt.title(our_test_labels[rand])\n",
        "  plt.axis(\"off\")"
      ],
      "metadata": {
        "id": "4ZChHb00PNh-",
        "colab": {
          "base_uri": "https://localhost:8080/",
          "height": 661
        },
        "outputId": "ba8c3902-45e3-43ef-c517-c3379d8b6ee1"
      },
      "execution_count": 43,
      "outputs": [
        {
          "output_type": "display_data",
          "data": {
            "text/plain": [
              "<Figure size 1000x1000 with 9 Axes>"
            ],
            "image/png": "[encoded data removed]"
          },
          "metadata": {}
        }
      ]
    },
    {
      "cell_type": "markdown",
      "source": [
        "## TODO5: 테스트 이미지 모양 변환"
      ],
      "metadata": {
        "id": "8HxdM3IxSVBo"
      }
    },
    {
      "cell_type": "code",
      "source": [
        "# TODO: 현재 our_test_images의 모양을 출력해봅시다.\n",
        "print(our_test_images.shape)"
      ],
      "metadata": {
        "id": "O4C5esE2SY88",
        "colab": {
          "base_uri": "https://localhost:8080/"
        },
        "outputId": "7e03dcff-cfdf-439a-d2ce-29a8deb7cceb"
      },
      "execution_count": 44,
      "outputs": [
        {
          "output_type": "stream",
          "name": "stdout",
          "text": [
            "(200, 784)\n"
          ]
        }
      ]
    },
    {
      "cell_type": "code",
      "source": [
        "# TODO: 우리가 만든 모델의 입력층에 들어갈 수 있도록 our_test_images 모양을 바꿔봅시다.\n",
        "# Hint: reshape 함수를 사용하면 쉽습니다.\n",
        "our_test_images = our_test_images.reshape(our_test_images.shape[0], 28, 28, 1).astype(\"float32\") / 255"
      ],
      "metadata": {
        "id": "gZ7U-Kd9Sc8C"
      },
      "execution_count": 46,
      "outputs": []
    },
    {
      "cell_type": "markdown",
      "source": [
        "## TODO 6: 우리가 만든 테스트 데이터로 모델 평가\n",
        "evaluate 함수를 사용합니다. 예측이 잘 되나요?<br>\n",
        "다음 시간에 이 문제를 해결할 것입니다."
      ],
      "metadata": {
        "id": "iNbHa0qIci6n"
      }
    },
    {
      "cell_type": "code",
      "source": [
        "score = model.evaluate(our_test_images, our_test_labels, verbose=0)\n",
        "print(\"Test loss:\", score[0])\n",
        "print(\"Test accuracy:\", score[1])"
      ],
      "metadata": {
        "id": "6rNvMkdS69Ov",
        "colab": {
          "base_uri": "https://localhost:8080/"
        },
        "outputId": "3a4751a3-9593-4b36-94d8-c3c60f9920c4"
      },
      "execution_count": 47,
      "outputs": [
        {
          "output_type": "stream",
          "name": "stdout",
          "text": [
            "Test loss: 2.3848960399627686\n",
            "Test accuracy: 0.10000000149011612\n"
          ]
        }
      ]
    }
  ],
  "metadata": {
    "colab": {
      "provenance": [],
      "gpuType": "T4"
    },
    "kernelspec": {
      "display_name": "Python 3",
      "name": "python3"
    },
    "language_info": {
      "codemirror_mode": {
        "name": "ipython",
        "version": 3
      },
      "file_extension": ".py",
      "mimetype": "text/x-python",
      "name": "python",
      "nbconvert_exporter": "python",
      "pygments_lexer": "ipython3",
      "version": "3.7.0"
    },
    "accelerator": "GPU"
  },
  "nbformat": 4,
  "nbformat_minor": 0
}