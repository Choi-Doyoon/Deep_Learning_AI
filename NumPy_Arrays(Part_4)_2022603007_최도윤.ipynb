{
  "nbformat": 4,
  "nbformat_minor": 0,
  "metadata": {
    "colab": {
      "provenance": []
    },
    "kernelspec": {
      "name": "python3",
      "display_name": "Python 3"
    },
    "language_info": {
      "name": "python"
    }
  },
  "cells": [
    {
      "cell_type": "markdown",
      "source": [
        "# NumPy Arrays - Part 4<br>\n",
        "\n",
        "by uramoon@kw.ac.kr<br>\n",
        "원본 출처: Introduction to Deep Learning at Carnegie Mellon University (https://deeplearning.cs.cmu.edu/S22/index.html)"
      ],
      "metadata": {
        "id": "MdE1jk2Ek8s5"
      }
    },
    {
      "cell_type": "code",
      "execution_count": 1,
      "metadata": {
        "id": "JsBJNZ7-k6Fn"
      },
      "outputs": [],
      "source": [
        "# Import the NumPy\n",
        "import numpy as np"
      ]
    },
    {
      "cell_type": "markdown",
      "source": [
        "## Reshaping Arrays (배열의 모양을 다르게 해석하기)<br>\n",
        "\n",
        "Array reshaping은 배열안의 데이터는 그대로 두고 모양을 바꿔 해석을 다르게 하는 것입니다.\n",
        "\n",
        "예를 들어 (4,) 모양의 1차원 배열 [1, 2, 3, 4]는 (4, 1) 모양의 2차원 배열 [[1], [2], [3], [4]], <br> 또는 (2, 2) 모양의 2차원 배열 [[1, 2], [3, 4]] 및 (1, 4) 모양의 2차원 배열 [[1, 2, 3, 4]]로 형태를 바꿔 해석할 수도 있습니다.\n",
        "\n",
        "- (4)는 괄호 안에 들어있는 숫자 4를 의미\n",
        "- (4,)는 1차원 배열의 생김새를 의미(길이:4)"
      ],
      "metadata": {
        "id": "5o4Of13sk_vc"
      }
    },
    {
      "cell_type": "markdown",
      "source": [
        "### 동일 차원으로 reshaping"
      ],
      "metadata": {
        "id": "O4a8i5qLlwgq"
      }
    },
    {
      "cell_type": "code",
      "source": [
        "s = np.random.rand(3, 4, 5)\n",
        "print(f\"원래 모양: {s.shape}\")"
      ],
      "metadata": {
        "id": "KMz5d2gOl0Eb",
        "colab": {
          "base_uri": "https://localhost:8080/"
        },
        "outputId": "7adac07a-5026-43ba-c2a5-393ad5822286"
      },
      "execution_count": 2,
      "outputs": [
        {
          "output_type": "stream",
          "name": "stdout",
          "text": [
            "원래 모양: (3, 4, 5)\n"
          ]
        }
      ]
    },
    {
      "cell_type": "markdown",
      "source": [
        "***TODO: s의 전체 원소 개수 구하기***\n",
        "* Q: 어떻게 계산할 수 있을까요?\n",
        "* A: 각 차원에 있는 숫자들을 곱한다."
      ],
      "metadata": {
        "id": "s1mp1lJDoaeK"
      }
    },
    {
      "cell_type": "code",
      "source": [
        "s.size"
      ],
      "metadata": {
        "id": "11CYWGKMl3RM",
        "colab": {
          "base_uri": "https://localhost:8080/"
        },
        "outputId": "9e3f1b3b-119c-462c-dab5-f06a5b63d60f"
      },
      "execution_count": 3,
      "outputs": [
        {
          "output_type": "execute_result",
          "data": {
            "text/plain": [
              "60"
            ]
          },
          "metadata": {},
          "execution_count": 3
        }
      ]
    },
    {
      "cell_type": "code",
      "source": [
        "# s 내용 확인하기\n",
        "print(s)"
      ],
      "metadata": {
        "id": "dICkdQ4Bl55_",
        "colab": {
          "base_uri": "https://localhost:8080/"
        },
        "outputId": "ab9926d0-0c1a-495b-ffb8-8038e42ec0be"
      },
      "execution_count": 4,
      "outputs": [
        {
          "output_type": "stream",
          "name": "stdout",
          "text": [
            "[[[0.20303883 0.43556723 0.85240537 0.21770734 0.94257551]\n",
            "  [0.1645916  0.31621595 0.95681305 0.48774896 0.04119012]\n",
            "  [0.23154927 0.62866939 0.41977194 0.38452743 0.70223224]\n",
            "  [0.04168762 0.09653899 0.46068486 0.1448691  0.30612051]]\n",
            "\n",
            " [[0.39261103 0.51617221 0.31294017 0.69580724 0.87859876]\n",
            "  [0.38358416 0.4325291  0.4207681  0.13091169 0.28420541]\n",
            "  [0.86613907 0.50875712 0.32940905 0.82255303 0.0041437 ]\n",
            "  [0.39463797 0.39058777 0.80266429 0.60472902 0.30297328]]\n",
            "\n",
            " [[0.79535016 0.95578783 0.33224136 0.73528455 0.29335414]\n",
            "  [0.20987075 0.01097599 0.68256776 0.84290642 0.89484978]\n",
            "  [0.52154922 0.9610284  0.59652545 0.89430321 0.64509168]\n",
            "  [0.32315684 0.0457538  0.62871733 0.37113419 0.42443021]]]\n"
          ]
        }
      ]
    },
    {
      "cell_type": "code",
      "source": [
        "# TODO: s를 (2, 6, 5)로 reshape하여 s1에 저장하기\n",
        "s1 = s.reshape(2,6 ,5 )\n",
        "print(f\"s1의 모양: {s1.shape}\")"
      ],
      "metadata": {
        "id": "rEp81Dn3l9uP",
        "colab": {
          "base_uri": "https://localhost:8080/"
        },
        "outputId": "5d2d26e7-3c37-4dc2-b8ef-b15a3345ec4a"
      },
      "execution_count": 5,
      "outputs": [
        {
          "output_type": "stream",
          "name": "stdout",
          "text": [
            "s1의 모양: (2, 6, 5)\n"
          ]
        }
      ]
    },
    {
      "cell_type": "code",
      "source": [
        "# s와 s1의 원소값 순서 동일한 것을 확인해보세요.\n",
        "print(s1)"
      ],
      "metadata": {
        "id": "XUAejbTjmCkQ",
        "colab": {
          "base_uri": "https://localhost:8080/"
        },
        "outputId": "b597bb6d-af31-406b-e411-cca4f4a8c797"
      },
      "execution_count": 6,
      "outputs": [
        {
          "output_type": "stream",
          "name": "stdout",
          "text": [
            "[[[0.20303883 0.43556723 0.85240537 0.21770734 0.94257551]\n",
            "  [0.1645916  0.31621595 0.95681305 0.48774896 0.04119012]\n",
            "  [0.23154927 0.62866939 0.41977194 0.38452743 0.70223224]\n",
            "  [0.04168762 0.09653899 0.46068486 0.1448691  0.30612051]\n",
            "  [0.39261103 0.51617221 0.31294017 0.69580724 0.87859876]\n",
            "  [0.38358416 0.4325291  0.4207681  0.13091169 0.28420541]]\n",
            "\n",
            " [[0.86613907 0.50875712 0.32940905 0.82255303 0.0041437 ]\n",
            "  [0.39463797 0.39058777 0.80266429 0.60472902 0.30297328]\n",
            "  [0.79535016 0.95578783 0.33224136 0.73528455 0.29335414]\n",
            "  [0.20987075 0.01097599 0.68256776 0.84290642 0.89484978]\n",
            "  [0.52154922 0.9610284  0.59652545 0.89430321 0.64509168]\n",
            "  [0.32315684 0.0457538  0.62871733 0.37113419 0.42443021]]]\n"
          ]
        }
      ]
    },
    {
      "cell_type": "markdown",
      "source": [
        "### 다른 차원으로 reshaping"
      ],
      "metadata": {
        "id": "2h9NzVWqmFIJ"
      }
    },
    {
      "cell_type": "code",
      "source": [
        "# TODO: 0부터 119까지 120개의 정수로 이루어진 1차원 배열을 간단하게 만들어보세요.\n",
        "# numpy.arange (https://numpy.org/doc/stable/reference/generated/numpy.arange.html)\n",
        "r = np.arange(120)"
      ],
      "metadata": {
        "id": "kd7rm9F8mHjg"
      },
      "execution_count": 7,
      "outputs": []
    },
    {
      "cell_type": "code",
      "source": [
        "print(f\"원래 모양: {r.shape}\")"
      ],
      "metadata": {
        "id": "JxsZO9FlmJab",
        "colab": {
          "base_uri": "https://localhost:8080/"
        },
        "outputId": "9c5996c4-59d9-46cc-f962-a6b6dce443ba"
      },
      "execution_count": 8,
      "outputs": [
        {
          "output_type": "stream",
          "name": "stdout",
          "text": [
            "원래 모양: (120,)\n"
          ]
        }
      ]
    },
    {
      "cell_type": "code",
      "source": [
        "# TODO: (120,) -> (3, 4, 10)\n",
        "# 원소개수는 120개로 동일합니다.\n",
        "r1 = r.reshape(3,4,10)\n",
        "print(f\"r1의 모양: {r1.shape}\")"
      ],
      "metadata": {
        "id": "yXX5yQiSmPLi",
        "colab": {
          "base_uri": "https://localhost:8080/"
        },
        "outputId": "136350ec-d13e-40a7-e557-093c5be44460"
      },
      "execution_count": 9,
      "outputs": [
        {
          "output_type": "stream",
          "name": "stdout",
          "text": [
            "r1의 모양: (3, 4, 10)\n"
          ]
        }
      ]
    },
    {
      "cell_type": "code",
      "source": [
        "# r과 r1을 비교해보세요.\n",
        "print(r)\n",
        "print(r1)"
      ],
      "metadata": {
        "id": "qTEazsfjmWBW",
        "colab": {
          "base_uri": "https://localhost:8080/"
        },
        "outputId": "449c09f1-abff-45a6-9f33-5e0ceeea940c"
      },
      "execution_count": 10,
      "outputs": [
        {
          "output_type": "stream",
          "name": "stdout",
          "text": [
            "[  0   1   2   3   4   5   6   7   8   9  10  11  12  13  14  15  16  17\n",
            "  18  19  20  21  22  23  24  25  26  27  28  29  30  31  32  33  34  35\n",
            "  36  37  38  39  40  41  42  43  44  45  46  47  48  49  50  51  52  53\n",
            "  54  55  56  57  58  59  60  61  62  63  64  65  66  67  68  69  70  71\n",
            "  72  73  74  75  76  77  78  79  80  81  82  83  84  85  86  87  88  89\n",
            "  90  91  92  93  94  95  96  97  98  99 100 101 102 103 104 105 106 107\n",
            " 108 109 110 111 112 113 114 115 116 117 118 119]\n",
            "[[[  0   1   2   3   4   5   6   7   8   9]\n",
            "  [ 10  11  12  13  14  15  16  17  18  19]\n",
            "  [ 20  21  22  23  24  25  26  27  28  29]\n",
            "  [ 30  31  32  33  34  35  36  37  38  39]]\n",
            "\n",
            " [[ 40  41  42  43  44  45  46  47  48  49]\n",
            "  [ 50  51  52  53  54  55  56  57  58  59]\n",
            "  [ 60  61  62  63  64  65  66  67  68  69]\n",
            "  [ 70  71  72  73  74  75  76  77  78  79]]\n",
            "\n",
            " [[ 80  81  82  83  84  85  86  87  88  89]\n",
            "  [ 90  91  92  93  94  95  96  97  98  99]\n",
            "  [100 101 102 103 104 105 106 107 108 109]\n",
            "  [110 111 112 113 114 115 116 117 118 119]]]\n"
          ]
        }
      ]
    },
    {
      "cell_type": "code",
      "source": [
        "# TODO: r1을 reshape하여 r2에 저장하세요.\n",
        "# (3, 4, 10) -> (6, 20)\n",
        "r2 = r1.reshape(6,20)\n",
        "print(f\"r2의 모양: {r2.shape}\")"
      ],
      "metadata": {
        "id": "uGUy-vPkmZOU",
        "colab": {
          "base_uri": "https://localhost:8080/"
        },
        "outputId": "ea97429e-f0f2-405b-d576-b563790a9fad"
      },
      "execution_count": 11,
      "outputs": [
        {
          "output_type": "stream",
          "name": "stdout",
          "text": [
            "r2의 모양: (6, 20)\n"
          ]
        }
      ]
    },
    {
      "cell_type": "code",
      "source": [
        "# r2와 r1, r을 비교해보세요.\n",
        "print(r1)\n",
        "print(r2)"
      ],
      "metadata": {
        "id": "U21IEB5Vmb--",
        "colab": {
          "base_uri": "https://localhost:8080/"
        },
        "outputId": "b016eca8-4edf-4fb9-be16-982a129b8a2f"
      },
      "execution_count": 12,
      "outputs": [
        {
          "output_type": "stream",
          "name": "stdout",
          "text": [
            "[[[  0   1   2   3   4   5   6   7   8   9]\n",
            "  [ 10  11  12  13  14  15  16  17  18  19]\n",
            "  [ 20  21  22  23  24  25  26  27  28  29]\n",
            "  [ 30  31  32  33  34  35  36  37  38  39]]\n",
            "\n",
            " [[ 40  41  42  43  44  45  46  47  48  49]\n",
            "  [ 50  51  52  53  54  55  56  57  58  59]\n",
            "  [ 60  61  62  63  64  65  66  67  68  69]\n",
            "  [ 70  71  72  73  74  75  76  77  78  79]]\n",
            "\n",
            " [[ 80  81  82  83  84  85  86  87  88  89]\n",
            "  [ 90  91  92  93  94  95  96  97  98  99]\n",
            "  [100 101 102 103 104 105 106 107 108 109]\n",
            "  [110 111 112 113 114 115 116 117 118 119]]]\n",
            "[[  0   1   2   3   4   5   6   7   8   9  10  11  12  13  14  15  16  17\n",
            "   18  19]\n",
            " [ 20  21  22  23  24  25  26  27  28  29  30  31  32  33  34  35  36  37\n",
            "   38  39]\n",
            " [ 40  41  42  43  44  45  46  47  48  49  50  51  52  53  54  55  56  57\n",
            "   58  59]\n",
            " [ 60  61  62  63  64  65  66  67  68  69  70  71  72  73  74  75  76  77\n",
            "   78  79]\n",
            " [ 80  81  82  83  84  85  86  87  88  89  90  91  92  93  94  95  96  97\n",
            "   98  99]\n",
            " [100 101 102 103 104 105 106 107 108 109 110 111 112 113 114 115 116 117\n",
            "  118 119]]\n"
          ]
        }
      ]
    },
    {
      "cell_type": "markdown",
      "source": [
        "## 배열 펼치기 (Flattening)\n",
        "배열 펼치기는 다차원 배열을 일차원으로 만들어줍니다.<br>\n",
        "일반적인 다층 퍼셉트론 인공 신경망은 일차원 배열을 입력으로 받기 때문에<br> MNIST 데이터셋을 사용하면 28 x 28 모양의 이차원 배열을 길이 784의 일차원 배열로 만들어 사용합니다."
      ],
      "metadata": {
        "id": "RpaG2yDgm4XH"
      }
    },
    {
      "cell_type": "code",
      "source": [
        "k = np.random.rand(5, 6)\n",
        "k"
      ],
      "metadata": {
        "id": "-EcIxVhPnf-1",
        "colab": {
          "base_uri": "https://localhost:8080/"
        },
        "outputId": "50a0bf0c-eed3-4e3f-8d31-aeff89cb3763"
      },
      "execution_count": 13,
      "outputs": [
        {
          "output_type": "execute_result",
          "data": {
            "text/plain": [
              "array([[0.40654864, 0.46218062, 0.79848023, 0.70996253, 0.78666276,\n",
              "        0.41044246],\n",
              "       [0.40821824, 0.13341063, 0.47543653, 0.84845497, 0.8100278 ,\n",
              "        0.38058225],\n",
              "       [0.06999544, 0.2928351 , 0.12392068, 0.53210349, 0.94079031,\n",
              "        0.03857208],\n",
              "       [0.5378806 , 0.87275879, 0.3956486 , 0.13094074, 0.75125501,\n",
              "        0.16152325],\n",
              "       [0.38633251, 0.18204648, 0.27301867, 0.31954776, 0.52061336,\n",
              "        0.88918601]])"
            ]
          },
          "metadata": {},
          "execution_count": 13
        }
      ]
    },
    {
      "cell_type": "markdown",
      "source": [
        "### 기본 순서대로 펼치기"
      ],
      "metadata": {
        "id": "vo3DsO7Znk7D"
      }
    },
    {
      "cell_type": "code",
      "source": [
        "# k와 k1을 비교해보세요.\n",
        "k1 = k.flatten()\n",
        "k1"
      ],
      "metadata": {
        "id": "RasJm2OgniU1",
        "colab": {
          "base_uri": "https://localhost:8080/"
        },
        "outputId": "c9552802-e178-4a92-d4f3-c7a29ea13342"
      },
      "execution_count": 14,
      "outputs": [
        {
          "output_type": "execute_result",
          "data": {
            "text/plain": [
              "array([0.40654864, 0.46218062, 0.79848023, 0.70996253, 0.78666276,\n",
              "       0.41044246, 0.40821824, 0.13341063, 0.47543653, 0.84845497,\n",
              "       0.8100278 , 0.38058225, 0.06999544, 0.2928351 , 0.12392068,\n",
              "       0.53210349, 0.94079031, 0.03857208, 0.5378806 , 0.87275879,\n",
              "       0.3956486 , 0.13094074, 0.75125501, 0.16152325, 0.38633251,\n",
              "       0.18204648, 0.27301867, 0.31954776, 0.52061336, 0.88918601])"
            ]
          },
          "metadata": {},
          "execution_count": 14
        }
      ]
    },
    {
      "cell_type": "code",
      "source": [
        "k1.shape"
      ],
      "metadata": {
        "id": "0Qp88_a7npWg",
        "colab": {
          "base_uri": "https://localhost:8080/"
        },
        "outputId": "522a6d86-6f9f-480f-9810-9d541fe02b1d"
      },
      "execution_count": 15,
      "outputs": [
        {
          "output_type": "execute_result",
          "data": {
            "text/plain": [
              "(30,)"
            ]
          },
          "metadata": {},
          "execution_count": 15
        }
      ]
    },
    {
      "cell_type": "markdown",
      "source": [
        "## 배열 이어 붙이기\n",
        "https://numpy.org/doc/stable/reference/generated/numpy.concatenate.html"
      ],
      "metadata": {
        "id": "xm8EHjaIn1hZ"
      }
    },
    {
      "cell_type": "code",
      "source": [
        "# 2차원 배열인 array1과 array2 생성\n",
        "array1 = np.array([[1, 2], [3, 4]])\n",
        "print(\"Array 1 is \\n\", array1, \" with dimensions \", array1.shape, \"\\n\")\n",
        "\n",
        "array2 = np.array([[5, 6]])\n",
        "print(\"Array 2 is \\n\", array2, \" with dimensions \", array2.shape, \"\\n\")"
      ],
      "metadata": {
        "id": "hRMcI_MvoH8I",
        "colab": {
          "base_uri": "https://localhost:8080/"
        },
        "outputId": "3fa234fd-464d-4a17-f06f-e74b41429914"
      },
      "execution_count": 16,
      "outputs": [
        {
          "output_type": "stream",
          "name": "stdout",
          "text": [
            "Array 1 is \n",
            " [[1 2]\n",
            " [3 4]]  with dimensions  (2, 2) \n",
            "\n",
            "Array 2 is \n",
            " [[5 6]]  with dimensions  (1, 2) \n",
            "\n"
          ]
        }
      ]
    },
    {
      "cell_type": "markdown",
      "source": [
        "배열을 이어붙일 때에는 기준이 되는 축 이외의 모양이 동일해야 합니다.<br>\n",
        "1. (2, 2)와 (1, 2) 이어 붙일 때 0번 축으로 이어붙이면 (3, 2) 배열 탄생\n",
        "2. (2, 2)와 (1, 2) 이어 붙일 때 1번 축으로 이어붙이면 0번 축의 모양이 서로 다르므로 이어붙이기 실패"
      ],
      "metadata": {
        "id": "Fd0IA5TboYWU"
      }
    },
    {
      "cell_type": "code",
      "source": [
        "# TODO: 0번 축을 기준으로 array1과 array2를 이어붙이세요.\n",
        "concatenated_array1 = np.concatenate((array1, array2), axis=0)\n",
        "print(\"Concatenated array 1 along axis 0 (row-wise for 2-d arrays) is \\n\", concatenated_array1, \"with dimensions \", concatenated_array1.shape, '\\n')"
      ],
      "metadata": {
        "id": "2cAvPXwjo1c4",
        "colab": {
          "base_uri": "https://localhost:8080/"
        },
        "outputId": "006ce1c4-8206-451c-db93-7049c5ada269"
      },
      "execution_count": 17,
      "outputs": [
        {
          "output_type": "stream",
          "name": "stdout",
          "text": [
            "Concatenated array 1 along axis 0 (row-wise for 2-d arrays) is \n",
            " [[1 2]\n",
            " [3 4]\n",
            " [5 6]] with dimensions  (3, 2) \n",
            "\n"
          ]
        }
      ]
    },
    {
      "cell_type": "code",
      "source": [
        "# TODO: 1번 축을 기준으로 array1과 array2를 이어붙이세요. (실패합니다. 에러 메시지를 확인하세요.)\n",
        "concatenated_array2 = np.concatenate((array1,array2),axis=1)\n",
        "print(\"Concatenated array 2 along axis 0 (column-wise for 2-d arrays) is \\n\", concatenated_array2, \"with dimensions \", concatenated_array2.shape)"
      ],
      "metadata": {
        "id": "aOCDXVggrJHk",
        "colab": {
          "base_uri": "https://localhost:8080/",
          "height": 182
        },
        "outputId": "facdfcd7-3922-48fe-dee9-420a3ed47ab4"
      },
      "execution_count": 20,
      "outputs": [
        {
          "output_type": "error",
          "ename": "ValueError",
          "evalue": "all the input array dimensions except for the concatenation axis must match exactly, but along dimension 0, the array at index 0 has size 2 and the array at index 1 has size 1",
          "traceback": [
            "\u001b[0;31m---------------------------------------------------------------------------\u001b[0m",
            "\u001b[0;31mValueError\u001b[0m                                Traceback (most recent call last)",
            "\u001b[0;32m<ipython-input-20-eb0640450c9c>\u001b[0m in \u001b[0;36m<cell line: 2>\u001b[0;34m()\u001b[0m\n\u001b[1;32m      1\u001b[0m \u001b[0;31m# TODO: 1번 축을 기준으로 array1과 array2를 이어붙이세요. (실패합니다. 에러 메시지를 확인하세요.)\u001b[0m\u001b[0;34m\u001b[0m\u001b[0;34m\u001b[0m\u001b[0m\n\u001b[0;32m----> 2\u001b[0;31m \u001b[0mconcatenated_array2\u001b[0m \u001b[0;34m=\u001b[0m \u001b[0mnp\u001b[0m\u001b[0;34m.\u001b[0m\u001b[0mconcatenate\u001b[0m\u001b[0;34m(\u001b[0m\u001b[0;34m(\u001b[0m\u001b[0marray1\u001b[0m\u001b[0;34m,\u001b[0m\u001b[0marray2\u001b[0m\u001b[0;34m)\u001b[0m\u001b[0;34m,\u001b[0m\u001b[0maxis\u001b[0m\u001b[0;34m=\u001b[0m\u001b[0;36m1\u001b[0m\u001b[0;34m)\u001b[0m\u001b[0;34m\u001b[0m\u001b[0;34m\u001b[0m\u001b[0m\n\u001b[0m\u001b[1;32m      3\u001b[0m \u001b[0mprint\u001b[0m\u001b[0;34m(\u001b[0m\u001b[0;34m\"Concatenated array 2 along axis 0 (column-wise for 2-d arrays) is \\n\"\u001b[0m\u001b[0;34m,\u001b[0m \u001b[0mconcatenated_array2\u001b[0m\u001b[0;34m,\u001b[0m \u001b[0;34m\"with dimensions \"\u001b[0m\u001b[0;34m,\u001b[0m \u001b[0mconcatenated_array2\u001b[0m\u001b[0;34m.\u001b[0m\u001b[0mshape\u001b[0m\u001b[0;34m)\u001b[0m\u001b[0;34m\u001b[0m\u001b[0;34m\u001b[0m\u001b[0m\n",
            "\u001b[0;31mValueError\u001b[0m: all the input array dimensions except for the concatenation axis must match exactly, but along dimension 0, the array at index 0 has size 2 and the array at index 1 has size 1"
          ]
        }
      ]
    },
    {
      "cell_type": "code",
      "source": [
        "# TODO: (3, 4, 5) 형태에 0 이상 3 미만의 무작위 정수로 채워진 배열을 만드세요.\n",
        "# https://numpy.org/doc/stable/reference/random/generated/numpy.random.randint.html\n",
        "array1 = np.random.randint(3, size=(3,4,5))\n",
        "print(\"Array 1 is \\n\", array1, \" with dimensions \", array1.shape, \"\\n\")"
      ],
      "metadata": {
        "id": "7q245PFzpcru",
        "colab": {
          "base_uri": "https://localhost:8080/"
        },
        "outputId": "e9215036-7f51-4900-a657-865dd656c409"
      },
      "execution_count": 21,
      "outputs": [
        {
          "output_type": "stream",
          "name": "stdout",
          "text": [
            "Array 1 is \n",
            " [[[1 0 2 1 2]\n",
            "  [2 2 1 2 1]\n",
            "  [0 1 1 1 1]\n",
            "  [2 0 0 2 1]]\n",
            "\n",
            " [[1 1 2 2 2]\n",
            "  [0 0 2 0 1]\n",
            "  [1 1 1 0 1]\n",
            "  [2 0 2 1 0]]\n",
            "\n",
            " [[0 2 1 2 0]\n",
            "  [0 0 0 2 2]\n",
            "  [1 0 1 1 2]\n",
            "  [1 2 0 0 2]]]  with dimensions  (3, 4, 5) \n",
            "\n"
          ]
        }
      ]
    },
    {
      "cell_type": "code",
      "source": [
        "# TODO: (3, 4, 5) 형태에 0 이상 4 미만의 무작위 정수로 채워진 배열을 만드세요.\n",
        "array2 = np.random.randint(4, size=(3,4,5))\n",
        "print(\"Array 2 is \\n\", array2, \" with dimensions \", array2.shape, \"\\n\")"
      ],
      "metadata": {
        "id": "m5iEk018rkG4",
        "colab": {
          "base_uri": "https://localhost:8080/"
        },
        "outputId": "6efc43b1-210d-4817-f050-6c5887f870d6"
      },
      "execution_count": 24,
      "outputs": [
        {
          "output_type": "stream",
          "name": "stdout",
          "text": [
            "Array 2 is \n",
            " [[[2 0 2 2 1]\n",
            "  [3 1 3 0 1]\n",
            "  [2 2 0 0 3]\n",
            "  [0 3 2 3 2]]\n",
            "\n",
            " [[3 3 1 0 0]\n",
            "  [1 1 3 1 2]\n",
            "  [3 2 0 1 0]\n",
            "  [1 1 0 2 1]]\n",
            "\n",
            " [[2 3 2 0 3]\n",
            "  [2 0 3 0 1]\n",
            "  [0 3 1 2 2]\n",
            "  [2 0 0 1 0]]]  with dimensions  (3, 4, 5) \n",
            "\n"
          ]
        }
      ]
    },
    {
      "cell_type": "markdown",
      "source": [
        "***TODO: 0번 축을을 기준으로 이어붙이기***\n",
        "* Q: 어떤 모양일까요? (코딩으로 결과 확인 전에 작성해보세요.)\n",
        "* A: shape이 (6,4,5) 일 것이다."
      ],
      "metadata": {
        "id": "EaUNbC5sr8gy"
      }
    },
    {
      "cell_type": "code",
      "source": [
        "# TODO: 0번 축을 기준으로 이어붙이기\n",
        "concatenated_array1 = np.concatenate((array1, array2), axis=0)\n",
        "print(\"Concatenated array 1 is \\n\", concatenated_array1, \"\\n\\n\", \"and the dimensions of the concatenated array 1 are: \\n\", concatenated_array1.shape)"
      ],
      "metadata": {
        "id": "kapJeOHXqgGW",
        "colab": {
          "base_uri": "https://localhost:8080/"
        },
        "outputId": "1d43fb60-7d4d-4951-bb6c-7a31bab468e7"
      },
      "execution_count": 25,
      "outputs": [
        {
          "output_type": "stream",
          "name": "stdout",
          "text": [
            "Concatenated array 1 is \n",
            " [[[1 0 2 1 2]\n",
            "  [2 2 1 2 1]\n",
            "  [0 1 1 1 1]\n",
            "  [2 0 0 2 1]]\n",
            "\n",
            " [[1 1 2 2 2]\n",
            "  [0 0 2 0 1]\n",
            "  [1 1 1 0 1]\n",
            "  [2 0 2 1 0]]\n",
            "\n",
            " [[0 2 1 2 0]\n",
            "  [0 0 0 2 2]\n",
            "  [1 0 1 1 2]\n",
            "  [1 2 0 0 2]]\n",
            "\n",
            " [[2 0 2 2 1]\n",
            "  [3 1 3 0 1]\n",
            "  [2 2 0 0 3]\n",
            "  [0 3 2 3 2]]\n",
            "\n",
            " [[3 3 1 0 0]\n",
            "  [1 1 3 1 2]\n",
            "  [3 2 0 1 0]\n",
            "  [1 1 0 2 1]]\n",
            "\n",
            " [[2 3 2 0 3]\n",
            "  [2 0 3 0 1]\n",
            "  [0 3 1 2 2]\n",
            "  [2 0 0 1 0]]] \n",
            "\n",
            " and the dimensions of the concatenated array 1 are: \n",
            " (6, 4, 5)\n"
          ]
        }
      ]
    },
    {
      "cell_type": "markdown",
      "source": [
        "***TODO: 1번 축을 기준으로 이어붙이기***\n",
        "* Q: 어떤 모양일까요? (코딩으로 결과 확인 전에 작성해보세요.)\n",
        "* A: shape이 (3,8,5) 일 것이다."
      ],
      "metadata": {
        "id": "iZNFj2LnsQ6U"
      }
    },
    {
      "cell_type": "code",
      "source": [
        "# TODO: 1번 축을 기준으로 이어붙이기\n",
        "concatenated_array2 = np.concatenate((array1,array2),axis=1)\n",
        "print(\"Concatenated array 2 is \\n\", concatenated_array2, \"\\n\\n\", \"and the dimensions of the concatenated array 2 are: \\n\", concatenated_array2.shape)"
      ],
      "metadata": {
        "id": "iFZden1jsUGs",
        "colab": {
          "base_uri": "https://localhost:8080/"
        },
        "outputId": "77e063f1-934e-49bb-9ad5-ff98f3b85402"
      },
      "execution_count": 26,
      "outputs": [
        {
          "output_type": "stream",
          "name": "stdout",
          "text": [
            "Concatenated array 2 is \n",
            " [[[1 0 2 1 2]\n",
            "  [2 2 1 2 1]\n",
            "  [0 1 1 1 1]\n",
            "  [2 0 0 2 1]\n",
            "  [2 0 2 2 1]\n",
            "  [3 1 3 0 1]\n",
            "  [2 2 0 0 3]\n",
            "  [0 3 2 3 2]]\n",
            "\n",
            " [[1 1 2 2 2]\n",
            "  [0 0 2 0 1]\n",
            "  [1 1 1 0 1]\n",
            "  [2 0 2 1 0]\n",
            "  [3 3 1 0 0]\n",
            "  [1 1 3 1 2]\n",
            "  [3 2 0 1 0]\n",
            "  [1 1 0 2 1]]\n",
            "\n",
            " [[0 2 1 2 0]\n",
            "  [0 0 0 2 2]\n",
            "  [1 0 1 1 2]\n",
            "  [1 2 0 0 2]\n",
            "  [2 3 2 0 3]\n",
            "  [2 0 3 0 1]\n",
            "  [0 3 1 2 2]\n",
            "  [2 0 0 1 0]]] \n",
            "\n",
            " and the dimensions of the concatenated array 2 are: \n",
            " (3, 8, 5)\n"
          ]
        }
      ]
    },
    {
      "cell_type": "markdown",
      "source": [
        "***TODO: 2번 축을 기준으로 이어붙이기***\n",
        "* Q: 어떤 모양일까요? (코딩으로 결과 확인 전에 작성해보세요.)\n",
        "* A: shape이 (3,4,10) 일 것이다."
      ],
      "metadata": {
        "id": "Kb_mSmntsXJv"
      }
    },
    {
      "cell_type": "code",
      "source": [
        "# TODO: 2번 축을 기준으로 이어붙이기\n",
        "concatenated_array3 = np.concatenate((array1,array2),axis=2)\n",
        "print(\"Concatenated array 3 is \\n\", concatenated_array3, \"\\n\\n\", \"and the dimensions of the concatenated array 3 are: \\n\", concatenated_array3.shape)"
      ],
      "metadata": {
        "id": "1SladNrFsbAq",
        "colab": {
          "base_uri": "https://localhost:8080/"
        },
        "outputId": "9d0d45a8-c441-4a07-f8a2-4e96ee0e80ff"
      },
      "execution_count": 27,
      "outputs": [
        {
          "output_type": "stream",
          "name": "stdout",
          "text": [
            "Concatenated array 3 is \n",
            " [[[1 0 2 1 2 2 0 2 2 1]\n",
            "  [2 2 1 2 1 3 1 3 0 1]\n",
            "  [0 1 1 1 1 2 2 0 0 3]\n",
            "  [2 0 0 2 1 0 3 2 3 2]]\n",
            "\n",
            " [[1 1 2 2 2 3 3 1 0 0]\n",
            "  [0 0 2 0 1 1 1 3 1 2]\n",
            "  [1 1 1 0 1 3 2 0 1 0]\n",
            "  [2 0 2 1 0 1 1 0 2 1]]\n",
            "\n",
            " [[0 2 1 2 0 2 3 2 0 3]\n",
            "  [0 0 0 2 2 2 0 3 0 1]\n",
            "  [1 0 1 1 2 0 3 1 2 2]\n",
            "  [1 2 0 0 2 2 0 0 1 0]]] \n",
            "\n",
            " and the dimensions of the concatenated array 3 are: \n",
            " (3, 4, 10)\n"
          ]
        }
      ]
    }
  ]
}