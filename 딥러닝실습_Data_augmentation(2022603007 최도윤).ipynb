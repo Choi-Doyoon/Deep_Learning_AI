{
  "nbformat": 4,
  "nbformat_minor": 0,
  "metadata": {
    "colab": {
      "provenance": [],
      "gpuType": "T4"
    },
    "kernelspec": {
      "name": "python3",
      "display_name": "Python 3"
    },
    "language_info": {
      "name": "python"
    },
    "accelerator": "GPU"
  },
  "cells": [
    {
      "cell_type": "markdown",
      "source": [
        "# Data augmentation\n",
        "by uramoon@kw.ac.kr<br>\n",
        "\n",
        "훈련 데이터가 부족한 경우 훈련 데이터를 늘려봅시다.<br>\n",
        "본 노트북은 MNIST에서 99% 이상의 정확도를 보이는 간단한 CNN 모델을 사용합니다.\n",
        "\n",
        "모델 출처: [MNIST: Simple CNN keras (Accuracy : 0.99)=>Top 1%](https://www.kaggle.com/code/elcaiseri/mnist-simple-cnn-keras-accuracy-0-99-top-1/notebook) (<a href=\"https://raw.githubusercontent.com/ronreiter/interactive-tutorials/master/LICENSE\">Apache 2.0 License</a>)"
      ],
      "metadata": {
        "id": "IJEdIOcDNR2S"
      }
    },
    {
      "cell_type": "markdown",
      "source": [
        "상단 메뉴 런타임 - 런타임 유형 변경에서 **TPU** 혹은 **GPU**를 선택하고 진행하세요."
      ],
      "metadata": {
        "id": "06nXbC0oNqMv"
      }
    },
    {
      "cell_type": "markdown",
      "source": [
        "## 이미지 변환 함수 (PNG -> 정규화된 이차원 배열)\n",
        "일차원 배열을 입력받는 MLP와 달리 CNN은 **이차원 이미지**를 입력으로 받습니다."
      ],
      "metadata": {
        "id": "XoW-2emvOPvL"
      }
    },
    {
      "cell_type": "code",
      "source": [
        "# image_prepare(파일이름)으로 호출하면 정규화된 단일채널 (흑백) 이차원 배열을 반환합니다.\n",
        "# 지난 주에 제공한 코드는 (784,) 형태의 배열 반환, 여기에서는 (28, 28, 1) 형태의 배열 반환\n",
        "# 코드를 이해할 필요는 없습니다.\n",
        "\n",
        "import numpy as np\n",
        "from PIL import Image, ImageFilter\n",
        "\n",
        "def image_prepare(argv):\n",
        "    \"\"\"\n",
        "    This function returns the pixel values.\n",
        "    The imput is a png file location.\n",
        "    \"\"\"\n",
        "    im = Image.open(argv).convert('L')\n",
        "    width = float(im.size[0])\n",
        "    height = float(im.size[1])\n",
        "    newImage = Image.new('L', (28, 28), (255))  # creates white canvas of 28x28 pixels\n",
        "\n",
        "    if width > height:  # check which dimension is bigger\n",
        "        # Width is bigger. Width becomes 20 pixels.\n",
        "        nheight = int(round((20.0 / width * height), 0))  # resize height according to ratio width\n",
        "        if (nheight == 0):  # rare case but minimum is 1 pixel\n",
        "            nheight = 1\n",
        "            # resize and sharpen\n",
        "        img = im.resize((20, nheight), Image.LANCZOS).filter(ImageFilter.SHARPEN)\n",
        "        wtop = int(round(((28 - nheight) / 2), 0))  # calculate horizontal position\n",
        "        newImage.paste(img, (4, wtop))  # paste resized image on white canvas\n",
        "    else:\n",
        "        # Height is bigger. Heigth becomes 20 pixels.\n",
        "        nwidth = int(round((20.0 / height * width), 0))  # resize width according to ratio height\n",
        "        if (nwidth == 0):  # rare case but minimum is 1 pixel\n",
        "            nwidth = 1\n",
        "            # resize and sharpen\n",
        "        img = im.resize((nwidth, 20), Image.LANCZOS).filter(ImageFilter.SHARPEN)\n",
        "        wleft = int(round(((28 - nwidth) / 2), 0))  # caculate vertical pozition\n",
        "        newImage.paste(img, (wleft, 4))  # paste resized image on white canvas\n",
        "\n",
        "    # newImage.save(\"sample.png\n",
        "\n",
        "    tv = list(newImage.getdata())  # get pixel values\n",
        "\n",
        "    # normalize pixels to 0 and 1. 0 is pure white, 1 is pure black.\n",
        "    tva = [(255 - x) * 1.0 / 255.0 for x in tv]\n",
        "\n",
        "    return np.array(tva).reshape(28, 28, 1)"
      ],
      "metadata": {
        "id": "gVWvP55UOSG7"
      },
      "execution_count": 1,
      "outputs": []
    },
    {
      "cell_type": "markdown",
      "source": [
        "## 우리가 만든 PNG 파일 준비하기\n",
        "Pics.zip 파일을 Colab에 업로드한 후 진행합니다."
      ],
      "metadata": {
        "id": "zoR_e3O-N6Li"
      }
    },
    {
      "cell_type": "code",
      "source": [
        "# 디렉토리 만들기: our_mnist/0, our_mnist/1, ..., our_mnist/9\n",
        "# 0에는 0에 해당하는 그림들이, ..., 9에는 9에 해당하는 그림들이 저장될 것입니다.\n",
        "\n",
        "import os\n",
        "\n",
        "os.mkdir('our_mnist')\n",
        "for i in range(10):\n",
        "  os.mkdir(f'our_mnist/{i}')"
      ],
      "metadata": {
        "id": "xsEBUOfm7rbK"
      },
      "execution_count": 2,
      "outputs": []
    },
    {
      "cell_type": "code",
      "source": [
        "# Pics.zip 압축풀기\n",
        "!unzip Pics.zip\n",
        "!rm Pics.zip"
      ],
      "metadata": {
        "id": "XsLELESH7tXa",
        "colab": {
          "base_uri": "https://localhost:8080/"
        },
        "outputId": "54081a97-011f-4662-da35-7c4370044f2f"
      },
      "execution_count": 3,
      "outputs": [
        {
          "output_type": "stream",
          "name": "stdout",
          "text": [
            "Archive:  Pics.zip\n",
            "  inflating: 2010200054UA__.zip      \n",
            "  inflating: 2010203001UA__.zip      \n",
            "  inflating: 2010203011UA__img.zip   \n",
            "  inflating: 2010203043UA_.zip       \n",
            "  inflating: 2010203050UA_.zip       \n",
            "  inflating: 2010203066UA__KW_MNIST.zip  \n",
            "  inflating: 2010722043UA_mnist.zip  \n",
            "  inflating: 2010726045UA_.zip       \n",
            "  inflating: 2010726065UA_.zip       \n",
            "  inflating: 2010726070UA_pics.zip   \n",
            "  inflating: 2010726072UA__dataset.zip  \n",
            "  inflating: 2010742014UA_.zip       \n",
            "  inflating: 2010803003UA_.zip       \n",
            "  inflating: 2011726101UA_.zip       \n",
            "  inflating: 2016726023UA_.zip       \n",
            "  inflating: 2017203053UA_.zip       \n",
            "  inflating: 2017203076UA_.zip       \n",
            "  inflating: 2017203082UA_.zip       \n",
            "  inflating: 2018203008UA_.zip       \n",
            "  inflating: 2018203012UA_.zip       \n",
            "  inflating: 2018203016UA_.zip       \n",
            "  inflating: 2018203022UA_.zip       \n",
            "  inflating: 2018203031UA_.zip       \n",
            "  inflating: 2018203035UA_.zip       \n",
            "  inflating: 2018203053UA_.zip       \n",
            "  inflating: 2018510031UA_.zip       \n",
            "  inflating: 2018603027UA_.zip       \n",
            "  inflating: 2018603039UA.zip        \n",
            "  inflating: 2019203010UA_.zip       \n",
            "  inflating: 2019203021UA_.zip       \n",
            "  inflating: 2019203026UA_.zip       \n",
            "  inflating: 2019203027UA_.zip       \n",
            "  inflating: 2019203040UA_.zip       \n",
            "  inflating: 2019203045UA_.zip       \n",
            "  inflating: 2019203051UA_.zip       \n",
            "  inflating: 2019203053UA_.zip       \n",
            "  inflating: 2019203055UA_.zip       \n",
            "  inflating: 2019203059UA_.zip       \n",
            "  inflating: 2019203066UA_.zip       \n",
            "  inflating: 2019203069UA_.zip       \n",
            "  inflating: 2019203072UA_.zip       \n",
            "  inflating: 2019203076UA_.zip       \n",
            "  inflating: 2019203082UA_.zip       \n",
            "  inflating: 2019203091UA_.zip       \n",
            "  inflating: 2019203093UA.zip        \n",
            "  inflating: 2019203094UA_.zip       \n",
            "  inflating: 2019204026UA_.zip       \n",
            "  inflating: 2019204048UA.zip        \n",
            "  inflating: 2019603006UA_.zip       \n",
            "  inflating: 2019603016UA.zip        \n",
            "  inflating: 2019603038UA.zip        \n",
            "  inflating: 2019706044UA_.zip       \n",
            "  inflating: 2020203023UA_.zip       \n",
            "  inflating: 2020203024UA_.zip       \n",
            "  inflating: 2020203044UA_.zip       \n",
            "  inflating: 2020203061UA_.zip       \n",
            "  inflating: 2020203065UA_.zip       \n",
            "  inflating: 2020203066UA.zip        \n",
            "  inflating: 2020203068UA_.zip       \n",
            "  inflating: 2020203070UA_.zip       \n",
            "  inflating: 2020203091UA.zip        \n",
            "  inflating: 2020203510UA.zip        \n",
            "  inflating: 2020603019UA_.zip       \n",
            "  inflating: 2020603020UA_j.zip      \n",
            "  inflating: 2020603031UA_.zip       \n",
            "  inflating: 2021203024UA_.zip       \n",
            "  inflating: 2021203050UA_.zip       \n",
            "  inflating: 2021203078UA_.zip       \n",
            "  inflating: 2021203079UA_.zip       \n",
            "  inflating: 2021203507UA_.zip       \n"
          ]
        }
      ]
    },
    {
      "cell_type": "code",
      "source": [
        "# 여러분이 제출한 모든 zip 파일을 열어 각 그림을 적절한 폴더에 학번_숫자.png로 저장합니다.\n",
        "# 이해하지 않아도 됩니다.\n",
        "\n",
        "from pathlib import Path\n",
        "import zipfile\n",
        "\n",
        "# 현재 디렉토리의 모든 파일 검사\n",
        "for filename in os.listdir('.'):\n",
        "  # zip 파일에 대해\n",
        "  if filename.endswith('.zip'):\n",
        "    # 학번 저장\n",
        "    prefix = filename[:9]\n",
        "\n",
        "    # zip 열기\n",
        "    zipdata = zipfile.ZipFile(filename)\n",
        "    zipinfos = zipdata.infolist()\n",
        "\n",
        "    # 압축된 파일 하나씩 검사하기\n",
        "    for zipinfo in zipinfos:\n",
        "      if zipinfo.filename.endswith('.png'):\n",
        "        # 경로 제외하기\n",
        "        zippedFilename = Path(zipinfo.filename).stem + '.png'\n",
        "        # 숫자 인식\n",
        "        digit = zippedFilename[0]\n",
        "        # 학번_ 붙이기\n",
        "        zipinfo.filename = prefix + '_' + zippedFilename\n",
        "        # 압축 풀기\n",
        "        zipdata.extract(zipinfo, f'our_mnist/{digit}')"
      ],
      "metadata": {
        "id": "nqx_IP487yGT"
      },
      "execution_count": 4,
      "outputs": []
    },
    {
      "cell_type": "markdown",
      "source": [
        "## TODO 1: 우리 그림 무작위로 그려보기\n",
        "our_mnist 하위 디렉토리 (0, 1, ..., 9)에서 무작위로 하나씩 그려봅시다.<br>\n",
        "(19학번까지는 훈련 데이터, 20학번부터는 테스트 데이터로 사용됩니다.)"
      ],
      "metadata": {
        "id": "8EfkTE1v8eok"
      }
    },
    {
      "cell_type": "code",
      "source": [
        "# PNG 파일을 그립니다.\n",
        "%matplotlib inline\n",
        "import matplotlib.pyplot as plt\n",
        "import matplotlib.image as mpimg\n",
        "import random\n",
        "\n",
        "plt.figure(figsize=(15, 7))\n",
        "for i in range(10):\n",
        "  target_dir = '/content/our_mnist/7' #TODO: 대상 디렉토리 이름을 쓰세요.\n",
        "  rand_file = random.choice(os.listdir(target_dir))\n",
        "  img = mpimg.imread(os.path.join(target_dir, rand_file))\n",
        "  plt.subplot(2, 5, 1) # 행은 두 개, 열은 다섯 개, 1로 시작하는 인덱스 기재\n",
        "  plt.imshow(img)\n",
        "  # TODO: 파일이름을 그림 제목으로 달아보세요.\n",
        "  plt.title(rand_file)\n",
        "plt.show()"
      ],
      "metadata": {
        "id": "KiUpkQkR8iuM",
        "colab": {
          "base_uri": "https://localhost:8080/",
          "height": 195
        },
        "outputId": "5d2ed533-4017-41f6-f49b-03139fcd80f5"
      },
      "execution_count": 5,
      "outputs": [
        {
          "output_type": "display_data",
          "data": {
            "text/plain": [
              "<Figure size 1500x700 with 1 Axes>"
            ],
            "image/png": "[encoded data removed]"
          },
          "metadata": {}
        }
      ]
    },
    {
      "cell_type": "markdown",
      "source": [
        "## 우리가 그린 그림으로 훈련/테스트 데이터셋 만들기\n",
        "2020 미만 학번: 훈련 / 2020 이상 학번: 테스트"
      ],
      "metadata": {
        "id": "bVyisvYXCJ7l"
      }
    },
    {
      "cell_type": "code",
      "source": [
        "# 이해하지 않아도 됩니다.\n",
        "\n",
        "our_train_images = []\n",
        "our_train_labels = []\n",
        "\n",
        "our_test_images = []\n",
        "our_test_labels = []\n",
        "\n",
        "for i in range(10):\n",
        "  for filename in os.listdir(f'our_mnist/{i}/'):\n",
        "    if filename < '2020':\n",
        "      our_train_images.append(image_prepare(f'our_mnist/{i}/' + filename))\n",
        "      our_train_labels.append(i)\n",
        "    else:\n",
        "      our_test_images.append(image_prepare(f'our_mnist/{i}/' + filename))\n",
        "      our_test_labels.append(i)\n",
        "\n",
        "our_train_images = np.asarray(our_train_images)\n",
        "our_train_labels = np.asarray(our_train_labels)\n",
        "our_test_images = np.asarray(our_test_images)\n",
        "our_test_labels = np.asarray(our_test_labels)"
      ],
      "metadata": {
        "id": "Vw5eqjT8CPHj"
      },
      "execution_count": 6,
      "outputs": []
    },
    {
      "cell_type": "markdown",
      "source": [
        "## TODO 2: 우리가 만든 데이터셋 살펴보기\n",
        "아래 코드를 실행해보고 물음에 답하세요.\n",
        "\n",
        "Q1: 훈련 이미지의 모양을 어떻게 해석할 수 있을까요? <br>\n",
        "A1: 28*28 사이즈의 390개의 데이터가 있다.\n",
        "\n",
        "Q2: 현재 훈련 레이블에 적합한 loss 함수는 무엇일까요? <br>\n",
        "A2: Sparse Categorical Crossentropy\n",
        "\n"
      ],
      "metadata": {
        "id": "n_i3rHsIDTyp"
      }
    },
    {
      "cell_type": "code",
      "source": [
        "print(f'훈련 이미지 모양: {our_train_images.shape}')\n",
        "print(f'훈련 레이블 내용: {our_train_labels}')"
      ],
      "metadata": {
        "id": "cS2ESei4Coqd",
        "colab": {
          "base_uri": "https://localhost:8080/"
        },
        "outputId": "1a13969f-10b2-4170-9f86-a9e91d3e1f9d"
      },
      "execution_count": 7,
      "outputs": [
        {
          "output_type": "stream",
          "name": "stdout",
          "text": [
            "훈련 이미지 모양: (390, 28, 28, 1)\n",
            "훈련 레이블 내용: [0 0 0 0 0 0 0 0 0 0 0 0 0 0 0 0 0 0 0 0 0 0 0 0 0 0 0 0 0 0 0 0 0 0 0 0 0\n",
            " 0 0 1 1 1 1 1 1 1 1 1 1 1 1 1 1 1 1 1 1 1 1 1 1 1 1 1 1 1 1 1 1 1 1 1 1 1\n",
            " 1 1 1 1 2 2 2 2 2 2 2 2 2 2 2 2 2 2 2 2 2 2 2 2 2 2 2 2 2 2 2 2 2 2 2 2 2\n",
            " 2 2 2 2 2 2 3 3 3 3 3 3 3 3 3 3 3 3 3 3 3 3 3 3 3 3 3 3 3 3 3 3 3 3 3 3 3\n",
            " 3 3 3 3 3 3 3 3 4 4 4 4 4 4 4 4 4 4 4 4 4 4 4 4 4 4 4 4 4 4 4 4 4 4 4 4 4\n",
            " 4 4 4 4 4 4 4 4 4 4 5 5 5 5 5 5 5 5 5 5 5 5 5 5 5 5 5 5 5 5 5 5 5 5 5 5 5\n",
            " 5 5 5 5 5 5 5 5 5 5 5 5 6 6 6 6 6 6 6 6 6 6 6 6 6 6 6 6 6 6 6 6 6 6 6 6 6\n",
            " 6 6 6 6 6 6 6 6 6 6 6 6 6 6 7 7 7 7 7 7 7 7 7 7 7 7 7 7 7 7 7 7 7 7 7 7 7\n",
            " 7 7 7 7 7 7 7 7 7 7 7 7 7 7 7 7 8 8 8 8 8 8 8 8 8 8 8 8 8 8 8 8 8 8 8 8 8\n",
            " 8 8 8 8 8 8 8 8 8 8 8 8 8 8 8 8 8 8 9 9 9 9 9 9 9 9 9 9 9 9 9 9 9 9 9 9 9\n",
            " 9 9 9 9 9 9 9 9 9 9 9 9 9 9 9 9 9 9 9 9]\n"
          ]
        }
      ]
    },
    {
      "cell_type": "markdown",
      "source": [
        "## 훈련 데이터 무작위로 순서 바꾸기 (중요)\n",
        "검증 데이터로 훈련 데이터의 20%를 사용하는 경우 훈련 데이터의 마지막 20%가 검증 데이터로 사용되는데 이렇게 되면 0부터 7까지로만 훈련하고, 8과 9가 검증 데이터로 활용되어 제대로 학습되지 않습니다. (훈련에 검증 데이터가 사용되지 않아 8과 9를 학습할 수 없음) 이를 방지하기 위해 훈련 데이터를 무작위로 섞습니다. (그림과 정답을 같은 순서로 섞어야 합니다.)"
      ],
      "metadata": {
        "id": "8VxZWgqUYipj"
      }
    },
    {
      "cell_type": "code",
      "source": [
        "# 이미지와 레이블을 동일한 순서로 섞습니다.\n",
        "\n",
        "idx = np.random.permutation(len(our_train_images))\n",
        "our_train_images, our_train_labels = our_train_images[idx], our_train_labels[idx]"
      ],
      "metadata": {
        "id": "aHm9UnwFYkY4"
      },
      "execution_count": 8,
      "outputs": []
    },
    {
      "cell_type": "code",
      "source": [
        "# 그림도 레이블과 동일한 순서로 섞였습니다.\n",
        "print(f'순서를 섞은 후의 훈련 레이블 내용: {our_train_labels}')"
      ],
      "metadata": {
        "id": "hDhkEVBK97qm",
        "colab": {
          "base_uri": "https://localhost:8080/"
        },
        "outputId": "f6d00be5-ddc8-47c5-fd23-a08e4878542b"
      },
      "execution_count": 9,
      "outputs": [
        {
          "output_type": "stream",
          "name": "stdout",
          "text": [
            "순서를 섞은 후의 훈련 레이블 내용: [7 0 4 6 3 0 7 8 2 2 3 6 5 2 4 4 3 0 8 9 7 4 6 2 4 5 6 2 8 2 8 0 7 1 9 7 2\n",
            " 8 9 2 7 2 4 5 4 5 3 2 3 8 8 6 5 2 1 1 2 7 7 1 5 4 6 2 3 3 1 0 5 8 2 5 9 2\n",
            " 7 4 5 7 2 4 0 2 4 2 6 9 0 6 0 8 0 2 1 4 0 6 1 8 3 7 5 9 1 8 8 0 9 9 8 7 1\n",
            " 4 5 8 7 8 7 3 5 8 4 1 4 2 3 3 4 5 0 2 8 3 7 1 0 4 1 4 6 3 7 0 7 6 2 2 6 8\n",
            " 5 8 4 6 4 6 3 8 0 9 4 2 8 5 9 8 3 6 9 9 3 4 8 6 9 3 5 0 6 2 9 7 3 3 7 8 3\n",
            " 0 1 8 1 7 6 2 9 5 9 6 6 5 2 0 9 6 4 5 8 5 3 7 5 2 6 3 9 4 7 2 6 9 1 5 6 4\n",
            " 6 9 6 5 9 6 5 9 1 3 8 6 0 7 9 4 5 1 6 7 5 5 3 0 4 9 9 5 6 1 6 3 0 6 1 2 8\n",
            " 2 0 3 0 3 4 6 2 7 9 9 7 4 3 1 4 7 1 2 4 3 1 7 1 0 8 5 1 2 5 0 5 7 2 8 7 6\n",
            " 2 1 8 1 4 1 5 5 9 1 0 5 4 4 5 3 7 0 0 4 9 0 8 0 8 9 8 7 1 0 1 3 8 5 0 3 6\n",
            " 8 7 1 3 0 4 4 3 6 8 0 9 1 6 0 1 0 2 9 2 9 7 5 7 3 4 9 9 1 4 6 7 7 3 2 7 0\n",
            " 1 9 9 7 3 5 0 1 5 6 3 8 1 9 8 0 3 9 1 1]\n"
          ]
        }
      ]
    },
    {
      "cell_type": "markdown",
      "source": [
        "## TODO 3: 모델 정의\n",
        "MNIST에서 99% 이상의 정확도를 달성할 수 있는 모델입니다.<br>\n",
        "입력층과 출력층 및 loss 함수만 기재하세요.\n"
      ],
      "metadata": {
        "id": "oOp8b_unSV3z"
      }
    },
    {
      "cell_type": "code",
      "source": [
        "# 나중에 모델을 초기화할 때도 사용합니다.\n",
        "from keras import models\n",
        "from keras import layers\n",
        "\n",
        "model = models.Sequential()\n",
        "\n",
        "# MLP에서는 (784,)였으나 CNN에서는 ...\n",
        "model.add(layers.Input(shape=(28,28,1)))\n",
        "\n",
        "model.add(layers.Conv2D(filters=64, kernel_size = (3,3), activation=\"relu\"))\n",
        "model.add(layers.Conv2D(filters=64, kernel_size = (3,3), activation=\"relu\"))\n",
        "model.add(layers.MaxPooling2D(pool_size=(2,2)))\n",
        "\n",
        "model.add(layers.Conv2D(filters=128, kernel_size = (3,3), activation=\"relu\"))\n",
        "model.add(layers.Conv2D(filters=128, kernel_size = (3,3), activation=\"relu\"))\n",
        "model.add(layers.MaxPooling2D(pool_size=(2,2)))\n",
        "\n",
        "model.add(layers.Conv2D(filters=256, kernel_size = (3,3), activation=\"relu\"))\n",
        "model.add(layers.MaxPooling2D(pool_size=(2,2)))\n",
        "\n",
        "model.add(layers.Flatten())\n",
        "model.add(layers.Dense(512, activation=\"relu\"))\n",
        "\n",
        "# 출력층 모양은 MLP와 동일합니다.\n",
        "model.add(layers.Dense(10, activation=\"softmax\"))\n",
        "\n",
        "model.compile(loss=\"sparse_categorical_crossentropy\", optimizer=\"adam\", metrics=[\"accuracy\"])"
      ],
      "metadata": {
        "id": "xRXWU7HySnJe"
      },
      "execution_count": 19,
      "outputs": []
    },
    {
      "cell_type": "markdown",
      "source": [
        "## 모델 훈련\n",
        "우리가 만든 훈련데이터로 훈련해 봅니다."
      ],
      "metadata": {
        "id": "2kqlSp1kHnxd"
      }
    },
    {
      "cell_type": "code",
      "source": [
        "from keras.callbacks import EarlyStopping\n",
        "\n",
        "epochs = 10000\n",
        "es = EarlyStopping(patience=10, restore_best_weights=True)\n",
        "\n",
        "model.fit(our_train_images, our_train_labels, epochs=epochs, callbacks=es, validation_split=0.2)"
      ],
      "metadata": {
        "id": "EWZzxxxBJ3eC",
        "colab": {
          "base_uri": "https://localhost:8080/"
        },
        "outputId": "fb2ea3ee-d917-4fc7-abf9-6d7df721d9f3"
      },
      "execution_count": 11,
      "outputs": [
        {
          "output_type": "stream",
          "name": "stdout",
          "text": [
            "Epoch 1/10000\n",
            "\u001b[1m10/10\u001b[0m \u001b[32m━━━━━━━━━━━━━━━━━━━━\u001b[0m\u001b[37m\u001b[0m \u001b[1m9s\u001b[0m 407ms/step - accuracy: 0.0965 - loss: 2.3007 - val_accuracy: 0.1026 - val_loss: 2.2976\n",
            "Epoch 2/10000\n",
            "\u001b[1m10/10\u001b[0m \u001b[32m━━━━━━━━━━━━━━━━━━━━\u001b[0m\u001b[37m\u001b[0m \u001b[1m3s\u001b[0m 16ms/step - accuracy: 0.2421 - loss: 2.1090 - val_accuracy: 0.4615 - val_loss: 1.5652\n",
            "Epoch 3/10000\n",
            "\u001b[1m10/10\u001b[0m \u001b[32m━━━━━━━━━━━━━━━━━━━━\u001b[0m\u001b[37m\u001b[0m \u001b[1m0s\u001b[0m 12ms/step - accuracy: 0.5190 - loss: 1.4016 - val_accuracy: 0.5000 - val_loss: 1.3822\n",
            "Epoch 4/10000\n",
            "\u001b[1m10/10\u001b[0m \u001b[32m━━━━━━━━━━━━━━━━━━━━\u001b[0m\u001b[37m\u001b[0m \u001b[1m0s\u001b[0m 14ms/step - accuracy: 0.6306 - loss: 1.1120 - val_accuracy: 0.6667 - val_loss: 1.0617\n",
            "Epoch 5/10000\n",
            "\u001b[1m10/10\u001b[0m \u001b[32m━━━━━━━━━━━━━━━━━━━━\u001b[0m\u001b[37m\u001b[0m \u001b[1m0s\u001b[0m 13ms/step - accuracy: 0.7771 - loss: 0.7170 - val_accuracy: 0.6538 - val_loss: 1.1388\n",
            "Epoch 6/10000\n",
            "\u001b[1m10/10\u001b[0m \u001b[32m━━━━━━━━━━━━━━━━━━━━\u001b[0m\u001b[37m\u001b[0m \u001b[1m0s\u001b[0m 14ms/step - accuracy: 0.7529 - loss: 0.6430 - val_accuracy: 0.7821 - val_loss: 0.6409\n",
            "Epoch 7/10000\n",
            "\u001b[1m10/10\u001b[0m \u001b[32m━━━━━━━━━━━━━━━━━━━━\u001b[0m\u001b[37m\u001b[0m \u001b[1m0s\u001b[0m 13ms/step - accuracy: 0.8764 - loss: 0.4189 - val_accuracy: 0.7692 - val_loss: 0.6779\n",
            "Epoch 8/10000\n",
            "\u001b[1m10/10\u001b[0m \u001b[32m━━━━━━━━━━━━━━━━━━━━\u001b[0m\u001b[37m\u001b[0m \u001b[1m0s\u001b[0m 13ms/step - accuracy: 0.9065 - loss: 0.3255 - val_accuracy: 0.8462 - val_loss: 0.4883\n",
            "Epoch 9/10000\n",
            "\u001b[1m10/10\u001b[0m \u001b[32m━━━━━━━━━━━━━━━━━━━━\u001b[0m\u001b[37m\u001b[0m \u001b[1m0s\u001b[0m 11ms/step - accuracy: 0.9293 - loss: 0.2421 - val_accuracy: 0.8718 - val_loss: 0.4133\n",
            "Epoch 10/10000\n",
            "\u001b[1m10/10\u001b[0m \u001b[32m━━━━━━━━━━━━━━━━━━━━\u001b[0m\u001b[37m\u001b[0m \u001b[1m0s\u001b[0m 10ms/step - accuracy: 0.9677 - loss: 0.1181 - val_accuracy: 0.8590 - val_loss: 0.4670\n",
            "Epoch 11/10000\n",
            "\u001b[1m10/10\u001b[0m \u001b[32m━━━━━━━━━━━━━━━━━━━━\u001b[0m\u001b[37m\u001b[0m \u001b[1m0s\u001b[0m 10ms/step - accuracy: 0.9743 - loss: 0.0945 - val_accuracy: 0.8590 - val_loss: 0.5628\n",
            "Epoch 12/10000\n",
            "\u001b[1m10/10\u001b[0m \u001b[32m━━━━━━━━━━━━━━━━━━━━\u001b[0m\u001b[37m\u001b[0m \u001b[1m0s\u001b[0m 9ms/step - accuracy: 0.9514 - loss: 0.1199 - val_accuracy: 0.8718 - val_loss: 0.5011\n",
            "Epoch 13/10000\n",
            "\u001b[1m10/10\u001b[0m \u001b[32m━━━━━━━━━━━━━━━━━━━━\u001b[0m\u001b[37m\u001b[0m \u001b[1m0s\u001b[0m 9ms/step - accuracy: 0.9770 - loss: 0.0767 - val_accuracy: 0.9103 - val_loss: 0.4733\n",
            "Epoch 14/10000\n",
            "\u001b[1m10/10\u001b[0m \u001b[32m━━━━━━━━━━━━━━━━━━━━\u001b[0m\u001b[37m\u001b[0m \u001b[1m0s\u001b[0m 11ms/step - accuracy: 0.9883 - loss: 0.0440 - val_accuracy: 0.8846 - val_loss: 0.4248\n",
            "Epoch 15/10000\n",
            "\u001b[1m10/10\u001b[0m \u001b[32m━━━━━━━━━━━━━━━━━━━━\u001b[0m\u001b[37m\u001b[0m \u001b[1m0s\u001b[0m 11ms/step - accuracy: 0.9884 - loss: 0.0486 - val_accuracy: 0.8462 - val_loss: 0.6396\n",
            "Epoch 16/10000\n",
            "\u001b[1m10/10\u001b[0m \u001b[32m━━━━━━━━━━━━━━━━━━━━\u001b[0m\u001b[37m\u001b[0m \u001b[1m0s\u001b[0m 9ms/step - accuracy: 0.9721 - loss: 0.1178 - val_accuracy: 0.7308 - val_loss: 1.5773\n",
            "Epoch 17/10000\n",
            "\u001b[1m10/10\u001b[0m \u001b[32m━━━━━━━━━━━━━━━━━━━━\u001b[0m\u001b[37m\u001b[0m \u001b[1m0s\u001b[0m 10ms/step - accuracy: 0.9037 - loss: 0.4704 - val_accuracy: 0.6667 - val_loss: 1.4141\n",
            "Epoch 18/10000\n",
            "\u001b[1m10/10\u001b[0m \u001b[32m━━━━━━━━━━━━━━━━━━━━\u001b[0m\u001b[37m\u001b[0m \u001b[1m0s\u001b[0m 9ms/step - accuracy: 0.9163 - loss: 0.3344 - val_accuracy: 0.8205 - val_loss: 0.4702\n",
            "Epoch 19/10000\n",
            "\u001b[1m10/10\u001b[0m \u001b[32m━━━━━━━━━━━━━━━━━━━━\u001b[0m\u001b[37m\u001b[0m \u001b[1m0s\u001b[0m 10ms/step - accuracy: 0.8951 - loss: 0.3295 - val_accuracy: 0.7821 - val_loss: 0.8028\n"
          ]
        },
        {
          "output_type": "execute_result",
          "data": {
            "text/plain": [
              "<keras.src.callbacks.history.History at 0x799091587790>"
            ]
          },
          "metadata": {},
          "execution_count": 11
        }
      ]
    },
    {
      "cell_type": "markdown",
      "source": [
        "## TODO 4: 모델 평가\n",
        "우리가 만든 테스트 데이터로 평가해 봅시다."
      ],
      "metadata": {
        "id": "ViCKmqv9Kjpe"
      }
    },
    {
      "cell_type": "code",
      "source": [
        "score = model.evaluate(our_test_images, our_test_labels , verbose=0)\n",
        "print(\"Test loss:\", score[0])\n",
        "print(\"Test accuracy:\", score[1])"
      ],
      "metadata": {
        "id": "WmOPLTBLKi1U",
        "colab": {
          "base_uri": "https://localhost:8080/"
        },
        "outputId": "fb24cb55-9069-4b2a-f13e-2167023d10ba"
      },
      "execution_count": 12,
      "outputs": [
        {
          "output_type": "stream",
          "name": "stdout",
          "text": [
            "Test loss: 0.6068801283836365\n",
            "Test accuracy: 0.8153846263885498\n"
          ]
        }
      ]
    },
    {
      "cell_type": "markdown",
      "source": [
        "6만장의 훈련 데이터를 지닌 MNIST에서는 99% 이상의 정확도를 보이는 모델이었는데<br>\n",
        "우리가 그린 수백 장의 그림으로는 정확도가 만족스럽지 않습니다."
      ],
      "metadata": {
        "id": "lEsh2x4ft9V6"
      }
    },
    {
      "cell_type": "markdown",
      "source": [
        "## TODO 5: ImageDataGenerator 설정\n",
        "모델의 성능을 높이기 위해 더 많은 훈련 데이터가 필요해 보입니다.<br>\n",
        "새로 그림을 그리는 것 대신 여러분의 그림에 변형을 가해 새로운 그림을 생성할 것입니다.<br>\n",
        "다음 항목들을 참고하여 아래의 코드를 완성하세요.\n",
        "\n",
        "1. 이미지를 최대 15도까지 무작위로 회전시키기\n",
        "2. 이미지를 가로로 최대 10% 움직이기\n",
        "3. 이미지를 세로로 최대 10% 움직이기\n",
        "4. 숫자 이미지를 위, 아래로 뒤집는 것을 허용해도 될까요?\n",
        "5. 숫자 이미지를 왼쪽, 오른쪽으로 뒤집는 것을 허용해도 될까요?\n",
        "\n",
        "Hint: https://keras.io/ko/preprocessing/image/"
      ],
      "metadata": {
        "id": "rOCNAOfSOqok"
      }
    },
    {
      "cell_type": "code",
      "source": [
        "from tensorflow.keras.preprocessing.image import ImageDataGenerator\n",
        "\n",
        "datagen = ImageDataGenerator(\n",
        "    rotation_range=15,\n",
        "    width_shift_range=0.1,\n",
        "    height_shift_range=0.1,\n",
        "    horizontal_flip=False,\n",
        "    vertical_flip=True)"
      ],
      "metadata": {
        "id": "7ifBHoC3O468"
      },
      "execution_count": 13,
      "outputs": []
    },
    {
      "cell_type": "markdown",
      "source": [
        "## TODO 6: Image 생성해보기\n",
        "우선 훈련 데이터의 첫 번째 그림을 그려봅시다."
      ],
      "metadata": {
        "id": "OzWDrAKlQL8w"
      }
    },
    {
      "cell_type": "code",
      "source": [
        "import matplotlib.pyplot as plt\n",
        "\n",
        "first_img = our_train_images[0]\n",
        "digit = first_img.reshape(28,28)\n",
        "plt.imshow(digit, cmap=plt.cm.binary)\n",
        "plt.show()"
      ],
      "metadata": {
        "id": "iMl9SKp4QQnA",
        "colab": {
          "base_uri": "https://localhost:8080/",
          "height": 430
        },
        "outputId": "4faaf76e-9ab6-4166-946f-dabd93149a05"
      },
      "execution_count": 14,
      "outputs": [
        {
          "output_type": "display_data",
          "data": {
            "text/plain": [
              "<Figure size 640x480 with 1 Axes>"
            ],
            "image/png": "[encoded data removed]"
          },
          "metadata": {}
        }
      ]
    },
    {
      "cell_type": "markdown",
      "source": [
        "TODO 5에서 만든 datagen으로 다섯 장의 새 그림을 만들어봅시다.<br>\n",
        "다양한 이미지가 정상적으로 그려지지 않는다면 datagen 만들 때 실수한 것은 아닌지 확인해보세요. <br> (<1인 실수와 >=1인 정수 기재 시 의미가 달라지는 옵션들이 있습니다.)"
      ],
      "metadata": {
        "id": "jMuegowYMXb1"
      }
    },
    {
      "cell_type": "code",
      "source": [
        "plt.figure(figsize=(15, 4))\n",
        "for i in range(5):\n",
        "  new_img = datagen.random_transform(our_train_images[0]) # random_transform 함수에 첫 번째 그림 입력하여 새 그림 생성\n",
        "  plt.subplot(1,5,i+1) # 행 하나, 열 다섯 개, 1로 시작하는 인덱스\n",
        "  plt.imshow(new_img.reshape(28,28), cmap=plt.cm.binary)\n",
        "plt.show()"
      ],
      "metadata": {
        "id": "e8vM3gHjQUoV",
        "colab": {
          "base_uri": "https://localhost:8080/",
          "height": 148
        },
        "outputId": "a8f3aab1-1919-4b75-9b9d-0913a409bfe7"
      },
      "execution_count": 15,
      "outputs": [
        {
          "output_type": "display_data",
          "data": {
            "text/plain": [
              "<Figure size 1500x400 with 5 Axes>"
            ],
            "image/png": "[encoded data removed]"
          },
          "metadata": {}
        }
      ]
    },
    {
      "cell_type": "markdown",
      "source": [
        "## TODO 7: 훈련 데이터 100배 늘리기\n",
        "한 장의 훈련 이미지로 100장씩 생성해 봅시다."
      ],
      "metadata": {
        "id": "JBfvuvCkdN6y"
      }
    },
    {
      "cell_type": "code",
      "source": [
        "# 빈 배열 만들기\n",
        "augmented_train_images = np.empty((len(our_train_images)*100,28,28,1))\n",
        "augmented_train_labels = np.empty(len(our_train_labels)*100)\n",
        "\n",
        "# 배열 채우기, 훈련 데이터에서 한 장씩 꺼내 100개씩 만듭니다.\n",
        "for i in range(len(our_train_images)):\n",
        "  image = our_train_images[i]#TODO: 원본 이미지 지정\n",
        "  label = our_train_labels[i]#TODO: 이미지의 답안 지정\n",
        "  for j in range(100):\n",
        "    augmented_train_images[i*100 + j] = datagen.random_transform(image)#TODO: datagen으로 생성한 이미지\n",
        "    augmented_train_labels[i*100 + j] = label#TODO: 새로 생성한 이미지의 레이블"
      ],
      "metadata": {
        "id": "lII8_vFtdYes"
      },
      "execution_count": 16,
      "outputs": []
    },
    {
      "cell_type": "code",
      "source": [
        "print(f'원본 이미지 모양: {our_train_images.shape}')\n",
        "print(f'증강 이미지 모양: {augmented_train_images.shape}')"
      ],
      "metadata": {
        "id": "kv-x5B3EOxhM",
        "colab": {
          "base_uri": "https://localhost:8080/"
        },
        "outputId": "4fd5ff3e-5035-44f1-968c-79169efe5e68"
      },
      "execution_count": 17,
      "outputs": [
        {
          "output_type": "stream",
          "name": "stdout",
          "text": [
            "원본 이미지 모양: (390, 28, 28, 1)\n",
            "증강 이미지 모양: (39000, 28, 28, 1)\n"
          ]
        }
      ]
    },
    {
      "cell_type": "markdown",
      "source": [
        "## TODO 8: 증강한 훈련 데이터의 순서 섞기"
      ],
      "metadata": {
        "id": "l4wlR2FefLHX"
      }
    },
    {
      "cell_type": "code",
      "source": [
        "#TODO: 순서를 섞어 보세요.\n",
        "#Hint: TODO 2 아래 내용 참고\n",
        "idx = np.random.permutation(len(augmented_train_images))\n",
        "augmented_train_images, augmented_train_labels = augmented_train_images[idx], augmented_train_labels[idx]"
      ],
      "metadata": {
        "id": "mfe1fPKRfOpL"
      },
      "execution_count": 18,
      "outputs": []
    },
    {
      "cell_type": "markdown",
      "source": [
        "## TODO 9: 모델 다시 정의하고 증강 데이터로 훈련하기\n",
        "TODO 3의 코드를 다시 실행해서 모델을 초기화하고 아래 코드로 훈련합니다."
      ],
      "metadata": {
        "id": "sddWAYGofwA6"
      }
    },
    {
      "cell_type": "code",
      "source": [
        "# TODO 3 코드를 먼저 실행하여 모델을 초기화한 후 실행하세요.\n",
        "from keras.callbacks import EarlyStopping\n",
        "\n",
        "epochs = 10000\n",
        "batch_size = 128\n",
        "\n",
        "# 검증 데이터에서 100% 정확도를 달성한 이후에도 계속 훈련하는 것을 방지하기 위해 val_loss 대신 val_accuracy 사용\n",
        "es = EarlyStopping(monitor=\"val_accuracy\", patience=10, restore_best_weights=True)\n",
        "\n",
        "# 증강한 훈련 데이터를 사용합니다.\n",
        "model.fit(augmented_train_images,augmented_train_labels, batch_size=batch_size, epochs=epochs, callbacks=es, validation_split=0.2)"
      ],
      "metadata": {
        "id": "LqXeK7VkgFGg",
        "colab": {
          "base_uri": "https://localhost:8080/"
        },
        "outputId": "657214e6-6c93-4c29-eb8a-dc9b0a7c9831"
      },
      "execution_count": 20,
      "outputs": [
        {
          "output_type": "stream",
          "name": "stdout",
          "text": [
            "Epoch 1/10000\n",
            "\u001b[1m244/244\u001b[0m \u001b[32m━━━━━━━━━━━━━━━━━━━━\u001b[0m\u001b[37m\u001b[0m \u001b[1m12s\u001b[0m 29ms/step - accuracy: 0.5988 - loss: 1.1580 - val_accuracy: 0.9469 - val_loss: 0.1611\n",
            "Epoch 2/10000\n",
            "\u001b[1m244/244\u001b[0m \u001b[32m━━━━━━━━━━━━━━━━━━━━\u001b[0m\u001b[37m\u001b[0m \u001b[1m3s\u001b[0m 12ms/step - accuracy: 0.9543 - loss: 0.1414 - val_accuracy: 0.9722 - val_loss: 0.0884\n",
            "Epoch 3/10000\n",
            "\u001b[1m244/244\u001b[0m \u001b[32m━━━━━━━━━━━━━━━━━━━━\u001b[0m\u001b[37m\u001b[0m \u001b[1m3s\u001b[0m 13ms/step - accuracy: 0.9759 - loss: 0.0843 - val_accuracy: 0.9806 - val_loss: 0.0649\n",
            "Epoch 4/10000\n",
            "\u001b[1m244/244\u001b[0m \u001b[32m━━━━━━━━━━━━━━━━━━━━\u001b[0m\u001b[37m\u001b[0m \u001b[1m5s\u001b[0m 13ms/step - accuracy: 0.9889 - loss: 0.0426 - val_accuracy: 0.9960 - val_loss: 0.0168\n",
            "Epoch 5/10000\n",
            "\u001b[1m244/244\u001b[0m \u001b[32m━━━━━━━━━━━━━━━━━━━━\u001b[0m\u001b[37m\u001b[0m \u001b[1m3s\u001b[0m 12ms/step - accuracy: 0.9949 - loss: 0.0216 - val_accuracy: 0.9912 - val_loss: 0.0266\n",
            "Epoch 6/10000\n",
            "\u001b[1m244/244\u001b[0m \u001b[32m━━━━━━━━━━━━━━━━━━━━\u001b[0m\u001b[37m\u001b[0m \u001b[1m3s\u001b[0m 13ms/step - accuracy: 0.9939 - loss: 0.0206 - val_accuracy: 0.9976 - val_loss: 0.0100\n",
            "Epoch 7/10000\n",
            "\u001b[1m244/244\u001b[0m \u001b[32m━━━━━━━━━━━━━━━━━━━━\u001b[0m\u001b[37m\u001b[0m \u001b[1m3s\u001b[0m 13ms/step - accuracy: 0.9976 - loss: 0.0085 - val_accuracy: 0.9990 - val_loss: 0.0019\n",
            "Epoch 8/10000\n",
            "\u001b[1m244/244\u001b[0m \u001b[32m━━━━━━━━━━━━━━━━━━━━\u001b[0m\u001b[37m\u001b[0m \u001b[1m3s\u001b[0m 12ms/step - accuracy: 0.9989 - loss: 0.0042 - val_accuracy: 0.9941 - val_loss: 0.0252\n",
            "Epoch 9/10000\n",
            "\u001b[1m244/244\u001b[0m \u001b[32m━━━━━━━━━━━━━━━━━━━━\u001b[0m\u001b[37m\u001b[0m \u001b[1m5s\u001b[0m 13ms/step - accuracy: 0.9972 - loss: 0.0101 - val_accuracy: 0.9978 - val_loss: 0.0088\n",
            "Epoch 10/10000\n",
            "\u001b[1m244/244\u001b[0m \u001b[32m━━━━━━━━━━━━━━━━━━━━\u001b[0m\u001b[37m\u001b[0m \u001b[1m3s\u001b[0m 13ms/step - accuracy: 0.9994 - loss: 0.0029 - val_accuracy: 0.9986 - val_loss: 0.0045\n",
            "Epoch 11/10000\n",
            "\u001b[1m244/244\u001b[0m \u001b[32m━━━━━━━━━━━━━━━━━━━━\u001b[0m\u001b[37m\u001b[0m \u001b[1m5s\u001b[0m 13ms/step - accuracy: 0.9988 - loss: 0.0053 - val_accuracy: 0.9904 - val_loss: 0.0239\n",
            "Epoch 12/10000\n",
            "\u001b[1m244/244\u001b[0m \u001b[32m━━━━━━━━━━━━━━━━━━━━\u001b[0m\u001b[37m\u001b[0m \u001b[1m5s\u001b[0m 13ms/step - accuracy: 0.9950 - loss: 0.0185 - val_accuracy: 0.9982 - val_loss: 0.0076\n",
            "Epoch 13/10000\n",
            "\u001b[1m244/244\u001b[0m \u001b[32m━━━━━━━━━━━━━━━━━━━━\u001b[0m\u001b[37m\u001b[0m \u001b[1m3s\u001b[0m 13ms/step - accuracy: 0.9999 - loss: 8.6850e-04 - val_accuracy: 0.9991 - val_loss: 0.0047\n",
            "Epoch 14/10000\n",
            "\u001b[1m244/244\u001b[0m \u001b[32m━━━━━━━━━━━━━━━━━━━━\u001b[0m\u001b[37m\u001b[0m \u001b[1m5s\u001b[0m 13ms/step - accuracy: 1.0000 - loss: 1.3175e-04 - val_accuracy: 0.9999 - val_loss: 7.7974e-04\n",
            "Epoch 15/10000\n",
            "\u001b[1m244/244\u001b[0m \u001b[32m━━━━━━━━━━━━━━━━━━━━\u001b[0m\u001b[37m\u001b[0m \u001b[1m5s\u001b[0m 13ms/step - accuracy: 1.0000 - loss: 2.5813e-05 - val_accuracy: 0.9999 - val_loss: 7.7010e-04\n",
            "Epoch 16/10000\n",
            "\u001b[1m244/244\u001b[0m \u001b[32m━━━━━━━━━━━━━━━━━━━━\u001b[0m\u001b[37m\u001b[0m \u001b[1m5s\u001b[0m 13ms/step - accuracy: 1.0000 - loss: 1.3378e-05 - val_accuracy: 0.9999 - val_loss: 7.4678e-04\n",
            "Epoch 17/10000\n",
            "\u001b[1m244/244\u001b[0m \u001b[32m━━━━━━━━━━━━━━━━━━━━\u001b[0m\u001b[37m\u001b[0m \u001b[1m3s\u001b[0m 13ms/step - accuracy: 1.0000 - loss: 1.0094e-05 - val_accuracy: 0.9999 - val_loss: 7.2774e-04\n",
            "Epoch 18/10000\n",
            "\u001b[1m244/244\u001b[0m \u001b[32m━━━━━━━━━━━━━━━━━━━━\u001b[0m\u001b[37m\u001b[0m \u001b[1m3s\u001b[0m 13ms/step - accuracy: 1.0000 - loss: 8.1531e-06 - val_accuracy: 0.9999 - val_loss: 7.0753e-04\n",
            "Epoch 19/10000\n",
            "\u001b[1m244/244\u001b[0m \u001b[32m━━━━━━━━━━━━━━━━━━━━\u001b[0m\u001b[37m\u001b[0m \u001b[1m3s\u001b[0m 13ms/step - accuracy: 1.0000 - loss: 6.1197e-06 - val_accuracy: 0.9999 - val_loss: 7.0491e-04\n",
            "Epoch 20/10000\n",
            "\u001b[1m244/244\u001b[0m \u001b[32m━━━━━━━━━━━━━━━━━━━━\u001b[0m\u001b[37m\u001b[0m \u001b[1m3s\u001b[0m 13ms/step - accuracy: 1.0000 - loss: 5.2502e-06 - val_accuracy: 0.9999 - val_loss: 6.9738e-04\n",
            "Epoch 21/10000\n",
            "\u001b[1m244/244\u001b[0m \u001b[32m━━━━━━━━━━━━━━━━━━━━\u001b[0m\u001b[37m\u001b[0m \u001b[1m3s\u001b[0m 12ms/step - accuracy: 1.0000 - loss: 4.4532e-06 - val_accuracy: 0.9999 - val_loss: 6.9818e-04\n",
            "Epoch 22/10000\n",
            "\u001b[1m244/244\u001b[0m \u001b[32m━━━━━━━━━━━━━━━━━━━━\u001b[0m\u001b[37m\u001b[0m \u001b[1m5s\u001b[0m 13ms/step - accuracy: 1.0000 - loss: 3.1174e-06 - val_accuracy: 0.9999 - val_loss: 7.0632e-04\n",
            "Epoch 23/10000\n",
            "\u001b[1m244/244\u001b[0m \u001b[32m━━━━━━━━━━━━━━━━━━━━\u001b[0m\u001b[37m\u001b[0m \u001b[1m3s\u001b[0m 13ms/step - accuracy: 1.0000 - loss: 3.0159e-06 - val_accuracy: 0.9999 - val_loss: 7.0995e-04\n",
            "Epoch 24/10000\n",
            "\u001b[1m244/244\u001b[0m \u001b[32m━━━━━━━━━━━━━━━━━━━━\u001b[0m\u001b[37m\u001b[0m \u001b[1m3s\u001b[0m 12ms/step - accuracy: 1.0000 - loss: 2.3731e-06 - val_accuracy: 0.9999 - val_loss: 7.1380e-04\n"
          ]
        },
        {
          "output_type": "execute_result",
          "data": {
            "text/plain": [
              "<keras.src.callbacks.history.History at 0x79902853e7a0>"
            ]
          },
          "metadata": {},
          "execution_count": 20
        }
      ]
    },
    {
      "cell_type": "markdown",
      "source": [
        "## TODO 10: 증강 데이터로 훈련한 모델 테스트하기\n",
        "우리가 직접 그린 그림만으로 훈련한 모델 (TODO 4)과 증강한 데이터로 훈련한 모델의 성능을 비교해 보세요."
      ],
      "metadata": {
        "id": "FoYm5LEwjJbd"
      }
    },
    {
      "cell_type": "code",
      "source": [
        "# TODO 4의 코드를 복사하여 붙여넣고 실행하세요.\n",
        "score = model.evaluate(our_test_images, our_test_labels , verbose=0)\n",
        "print(\"Test loss:\", score[0])\n",
        "print(\"Test accuracy:\", score[1])"
      ],
      "metadata": {
        "id": "liTju8kRjMj7",
        "colab": {
          "base_uri": "https://localhost:8080/"
        },
        "outputId": "32a48f35-4e4f-47fc-d2c4-7584d32437d5"
      },
      "execution_count": 21,
      "outputs": [
        {
          "output_type": "stream",
          "name": "stdout",
          "text": [
            "Test loss: 0.14171184599399567\n",
            "Test accuracy: 0.9769230484962463\n"
          ]
        }
      ]
    },
    {
      "cell_type": "markdown",
      "source": [
        "## TODO 11: MNIST 불러와서 전처리하기\n",
        "MNIST 데이터로 훈련한 모델은 우리가 직접 그린 그림을 잘 분류하지 못했습니다.<br>\n",
        "그렇다면 우리가 직접 그린 그림으로 훈련한 모델은 MNIST 데이터를 잘 분류할까요?"
      ],
      "metadata": {
        "id": "tDi1iul9ULLC"
      }
    },
    {
      "cell_type": "code",
      "source": [
        "from keras.datasets import mnist\n",
        "\n",
        "# MNIST 테스트 데이터 불러오기 (X: 그림, y: 레이블)\n",
        "_, (X_test, y_test) = mnist.load_data()\n",
        "\n",
        "# Scale images to the [0, 1] range\n",
        "X_test = X_test.astype(\"float32\") / 255\n",
        "\n",
        "# MLP를 사용할 때는 X_test가 (10000, 784)의 모양이었지만(=[10000장의 이미지, 각 그림은 784개의 픽셀])\n",
        "# 현재는 이차원 흑백 이미지를 처리하는 CNN을 사용하고 있습니다. 어떤 모양으로 만들어야 할까요?\n",
        "# Make sure images have shape (28, 28, 1)\n",
        "X_test = np.expand_dims(X_test, axis=-1)#TODO"
      ],
      "metadata": {
        "id": "Q-IavF0wUPNn",
        "colab": {
          "base_uri": "https://localhost:8080/"
        },
        "outputId": "5bc04fe9-98fb-4703-f289-3a7db81b90b3"
      },
      "execution_count": 22,
      "outputs": [
        {
          "output_type": "stream",
          "name": "stdout",
          "text": [
            "Downloading data from https://storage.googleapis.com/tensorflow/tf-keras-datasets/mnist.npz\n",
            "\u001b[1m11490434/11490434\u001b[0m \u001b[32m━━━━━━━━━━━━━━━━━━━━\u001b[0m\u001b[37m\u001b[0m \u001b[1m2s\u001b[0m 0us/step\n"
          ]
        }
      ]
    },
    {
      "cell_type": "markdown",
      "source": [
        "## TODO 12: MNIST 테스트 데이터로 모델 평가\n",
        "MNIST 데이터로 훈련하면 99% 이상의 정확도를 얻을 수 있지만 우리가 직접 그린 그림을 활용하여 훈련한 모델의 성능은 다음과 같습니다."
      ],
      "metadata": {
        "id": "_8d_GiRBcDJo"
      }
    },
    {
      "cell_type": "code",
      "source": [
        "score = model.evaluate(X_test, y_test, verbose=0)\n",
        "print(\"Test loss:\", score[0])\n",
        "print(\"Test accuracy:\", score[1])"
      ],
      "metadata": {
        "id": "qzcHxWwLcGbb",
        "colab": {
          "base_uri": "https://localhost:8080/"
        },
        "outputId": "44a5a869-c0f6-43e2-db79-24857b60b1de"
      },
      "execution_count": 23,
      "outputs": [
        {
          "output_type": "stream",
          "name": "stdout",
          "text": [
            "Test loss: 4.900724411010742\n",
            "Test accuracy: 0.760200023651123\n"
          ]
        }
      ]
    },
    {
      "cell_type": "markdown",
      "source": [
        "다음 노트북에서 MNIST와 우리가 그린 그림을 모두 잘 예측하는 모델을 만들어 봅시다."
      ],
      "metadata": {
        "id": "nRIFhrZT_kDm"
      }
    }
  ]
}